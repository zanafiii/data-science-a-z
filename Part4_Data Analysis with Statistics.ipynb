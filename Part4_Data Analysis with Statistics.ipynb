{
 "cells": [
  {
   "cell_type": "markdown",
   "id": "0f1733b9-8e9e-4871-98c4-5b21a118cde7",
   "metadata": {},
   "source": [
    "# Part 4 - Data Analysis with Statistics"
   ]
  },
  {
   "cell_type": "markdown",
   "id": "70fc797b-9f33-455d-8c82-d1e28574086b",
   "metadata": {
    "tags": []
   },
   "source": [
    "## Measure of Central Tendency and Variability"
   ]
  },
  {
   "cell_type": "code",
   "execution_count": 4,
   "id": "451f5767-2632-4a25-9434-6272c3805e54",
   "metadata": {
    "tags": []
   },
   "outputs": [],
   "source": [
    "import statistics\n",
    "import numpy as np"
   ]
  },
  {
   "cell_type": "code",
   "execution_count": 5,
   "id": "8d6bd871-465b-4eab-b504-30bf8f13aa3b",
   "metadata": {
    "tags": []
   },
   "outputs": [
    {
     "data": {
      "text/plain": [
       "array([36, 64, 58, 99, 33, 73, 79,  7, 83, 16, 15, 97, 23,  3, 83, 52, 35,\n",
       "       24, 96,  3, 72, 46, 35, 78, 52, 92, 76,  1, 15,  8, 21, 44, 59, 45,\n",
       "       48, 83, 13, 87, 66, 30, 32, 14, 81, 86, 74, 35, 89, 45,  5, 33, 39,\n",
       "       22, 10, 94, 92, 23, 73, 12, 68, 48, 40, 70, 24,  0, 34, 67, 20, 17,\n",
       "       92, 10, 93,  2, 25, 61, 62, 62, 34, 56, 16, 41, 86, 22, 51, 34, 10,\n",
       "       55, 79, 36, 56, 84, 62, 60, 81, 35, 87, 96, 47, 64,  5, 93])"
      ]
     },
     "execution_count": 5,
     "metadata": {},
     "output_type": "execute_result"
    }
   ],
   "source": [
    "## Data\n",
    "\n",
    "data_num = np.random.randint(0, 100, 100)\n",
    "data_num"
   ]
  },
  {
   "cell_type": "code",
   "execution_count": 15,
   "id": "2dfe51b6-12be-4605-a964-16a02e7ec59a",
   "metadata": {
    "tags": []
   },
   "outputs": [
    {
     "data": {
      "text/plain": [
       "['S', 'M', 'L', 'XL', 'L', 'S']"
      ]
     },
     "execution_count": 15,
     "metadata": {},
     "output_type": "execute_result"
    }
   ],
   "source": [
    "data_cat = [\"S\",\"M\",\"L\",\"XL\",\"L\",\"S\"]\n",
    "data_cat"
   ]
  },
  {
   "cell_type": "code",
   "execution_count": 7,
   "id": "f643c03a-4e15-458d-a433-2583a0fe0305",
   "metadata": {
    "tags": []
   },
   "outputs": [
    {
     "data": {
      "text/plain": [
       "48"
      ]
     },
     "execution_count": 7,
     "metadata": {},
     "output_type": "execute_result"
    }
   ],
   "source": [
    "## Central Tendency\n",
    "\n",
    "statistics.mean(data_num)"
   ]
  },
  {
   "cell_type": "code",
   "execution_count": 8,
   "id": "8c19ccbf-b4d0-4124-9087-77092302e5c1",
   "metadata": {
    "tags": []
   },
   "outputs": [
    {
     "data": {
      "text/plain": [
       "47.5"
      ]
     },
     "execution_count": 8,
     "metadata": {},
     "output_type": "execute_result"
    }
   ],
   "source": [
    "statistics.median(data_num)"
   ]
  },
  {
   "cell_type": "code",
   "execution_count": 9,
   "id": "219c5ddb-c800-4389-b7a4-700adad3546c",
   "metadata": {
    "tags": []
   },
   "outputs": [
    {
     "data": {
      "text/plain": [
       "35"
      ]
     },
     "execution_count": 9,
     "metadata": {},
     "output_type": "execute_result"
    }
   ],
   "source": [
    "statistics.mode(data_num)"
   ]
  },
  {
   "cell_type": "code",
   "execution_count": 10,
   "id": "35078cbe-3051-4a32-b893-6be137d06f76",
   "metadata": {
    "tags": []
   },
   "outputs": [
    {
     "data": {
      "text/plain": [
       "'S'"
      ]
     },
     "execution_count": 10,
     "metadata": {},
     "output_type": "execute_result"
    }
   ],
   "source": [
    "statistics.mode(data_cat)"
   ]
  },
  {
   "cell_type": "code",
   "execution_count": 16,
   "id": "e9e37326-934f-45ff-9375-dd36f7b27af4",
   "metadata": {
    "tags": []
   },
   "outputs": [
    {
     "data": {
      "text/plain": [
       "['S', 'L']"
      ]
     },
     "execution_count": 16,
     "metadata": {},
     "output_type": "execute_result"
    }
   ],
   "source": [
    "statistics.multimode(data_cat)"
   ]
  },
  {
   "cell_type": "code",
   "execution_count": 17,
   "id": "f5ccf4ea-ac99-4d98-adc2-4a1d981c38ae",
   "metadata": {
    "tags": []
   },
   "outputs": [
    {
     "data": {
      "text/plain": [
       "852.4964"
      ]
     },
     "execution_count": 17,
     "metadata": {},
     "output_type": "execute_result"
    }
   ],
   "source": [
    "## Variability\n",
    "\n",
    "np.var(data_num)"
   ]
  },
  {
   "cell_type": "code",
   "execution_count": 20,
   "id": "e36d5e48-fabe-43e6-b2d4-f1c6ce3a94d1",
   "metadata": {
    "tags": []
   },
   "outputs": [
    {
     "data": {
      "text/plain": [
       "29.19754099235071"
      ]
     },
     "execution_count": 20,
     "metadata": {},
     "output_type": "execute_result"
    }
   ],
   "source": [
    "np.std(data_num)"
   ]
  },
  {
   "cell_type": "code",
   "execution_count": 21,
   "id": "ac6482e7-bcda-4d6c-a650-49619d680371",
   "metadata": {
    "tags": []
   },
   "outputs": [
    {
     "data": {
      "text/plain": [
       "99"
      ]
     },
     "execution_count": 21,
     "metadata": {},
     "output_type": "execute_result"
    }
   ],
   "source": [
    "np.max(data_num) - np.min(data_num)"
   ]
  },
  {
   "cell_type": "code",
   "execution_count": 23,
   "id": "8f4e5989-5899-4c6b-9486-548a2e6bf9bc",
   "metadata": {
    "tags": []
   },
   "outputs": [
    {
     "name": "stdout",
     "output_type": "stream",
     "text": [
      "23.0\n",
      "47.5\n",
      "74.5\n"
     ]
    }
   ],
   "source": [
    "print(np.quantile(data_num, 0.25)) ## Q1\n",
    "print(np.quantile(data_num, 0.5)) ## Q2\n",
    "print(np.quantile(data_num, 0.75)) ## Q3"
   ]
  },
  {
   "cell_type": "markdown",
   "id": "dea49637-210f-46bc-b137-bbec1903ba71",
   "metadata": {},
   "source": [
    "## T-Test"
   ]
  },
  {
   "cell_type": "code",
   "execution_count": 4,
   "id": "2945efa5-c830-4d0d-aed6-d0891b0bc261",
   "metadata": {
    "tags": []
   },
   "outputs": [],
   "source": [
    "import scipy.stats as stats"
   ]
  },
  {
   "cell_type": "code",
   "execution_count": 2,
   "id": "c645a2a5-d01b-4a7b-aeb4-6cef862dbc39",
   "metadata": {
    "tags": []
   },
   "outputs": [],
   "source": [
    "import numpy as np"
   ]
  },
  {
   "cell_type": "code",
   "execution_count": 4,
   "id": "3c0756ad-fafe-44f3-a3eb-556afa7121fe",
   "metadata": {
    "tags": []
   },
   "outputs": [
    {
     "data": {
      "text/plain": [
       "array([23, 24, 21, 20, 23, 21, 22, 24, 20, 20, 22, 23, 21, 21, 21, 20, 20,\n",
       "       21, 20, 24, 24, 22, 24, 21, 20, 23, 21, 20, 22, 24])"
      ]
     },
     "execution_count": 4,
     "metadata": {},
     "output_type": "execute_result"
    }
   ],
   "source": [
    "data = np.random.randint(20,25,30)\n",
    "data"
   ]
  },
  {
   "cell_type": "code",
   "execution_count": 5,
   "id": "e76adfb3-141a-457d-8cf7-6876b75f057a",
   "metadata": {
    "tags": []
   },
   "outputs": [],
   "source": [
    "## One Sided - Right (Greater)\n",
    "## H0 = u = 20\n",
    "## h1 = u > 20"
   ]
  },
  {
   "cell_type": "code",
   "execution_count": 6,
   "id": "fffa2fc3-68cd-48a4-9962-09e2820bae5a",
   "metadata": {
    "tags": []
   },
   "outputs": [
    {
     "data": {
      "text/plain": [
       "TtestResult(statistic=6.2995405012045, pvalue=3.5132166263073725e-07, df=29)"
      ]
     },
     "execution_count": 6,
     "metadata": {},
     "output_type": "execute_result"
    }
   ],
   "source": [
    "ttest = stats.ttest_1samp(a=data, popmean = 20, alternative = \"greater\")\n",
    "ttest"
   ]
  },
  {
   "cell_type": "code",
   "execution_count": 7,
   "id": "4a6b56b2-ae93-456d-96f7-596119c9e8e6",
   "metadata": {
    "tags": []
   },
   "outputs": [
    {
     "data": {
      "text/plain": [
       "3.5132166263073725e-07"
      ]
     },
     "execution_count": 7,
     "metadata": {},
     "output_type": "execute_result"
    }
   ],
   "source": [
    "pvalue = ttest.pvalue\n",
    "pvalue"
   ]
  },
  {
   "cell_type": "code",
   "execution_count": 8,
   "id": "29011878-b362-407d-bfe9-943a706cd205",
   "metadata": {
    "tags": []
   },
   "outputs": [
    {
     "name": "stdout",
     "output_type": "stream",
     "text": [
      "True\n"
     ]
    }
   ],
   "source": [
    "alpha = 0.05\n",
    "print(pvalue < alpha)"
   ]
  },
  {
   "cell_type": "code",
   "execution_count": 10,
   "id": "4252efa5-c781-4023-b11a-e085ec6b26ae",
   "metadata": {
    "tags": []
   },
   "outputs": [
    {
     "name": "stdout",
     "output_type": "stream",
     "text": [
      "Conclusion: We success to reject H0. u > 20\n"
     ]
    }
   ],
   "source": [
    "print(\"Conclusion: We success to reject H0. u > 20\")"
   ]
  },
  {
   "cell_type": "code",
   "execution_count": 11,
   "id": "63c760ed-73a2-4bc6-8178-c66b5da09f4b",
   "metadata": {
    "tags": []
   },
   "outputs": [],
   "source": [
    "## One Sided - Right (Greater)\n",
    "## H0 = u = 20\n",
    "## h1 = u < 20"
   ]
  },
  {
   "cell_type": "code",
   "execution_count": 12,
   "id": "ba905241-9af8-433c-a04a-c171d971e4ec",
   "metadata": {
    "tags": []
   },
   "outputs": [
    {
     "data": {
      "text/plain": [
       "TtestResult(statistic=6.2995405012045, pvalue=0.9999996486783373, df=29)"
      ]
     },
     "execution_count": 12,
     "metadata": {},
     "output_type": "execute_result"
    }
   ],
   "source": [
    "ttest = stats.ttest_1samp(a=data, popmean = 20, alternative = \"less\")\n",
    "ttest"
   ]
  },
  {
   "cell_type": "code",
   "execution_count": 13,
   "id": "d565fe65-0030-4a38-98f0-6ba52da0bbe9",
   "metadata": {
    "tags": []
   },
   "outputs": [
    {
     "name": "stdout",
     "output_type": "stream",
     "text": [
      "False\n"
     ]
    }
   ],
   "source": [
    "pvalue = ttest.pvalue\n",
    "alpha = 0.05\n",
    "print(pvalue < alpha)"
   ]
  },
  {
   "cell_type": "code",
   "execution_count": 14,
   "id": "c7910dfa-66ee-4fe2-a413-22ae0af66966",
   "metadata": {
    "tags": []
   },
   "outputs": [
    {
     "name": "stdout",
     "output_type": "stream",
     "text": [
      "Conclusion: We fail to reject H0. u = 20\n"
     ]
    }
   ],
   "source": [
    "print(\"Conclusion: We fail to reject H0. u = 20\")"
   ]
  },
  {
   "cell_type": "code",
   "execution_count": 16,
   "id": "1d08b48f-7d8c-4238-aec8-53e633d0a149",
   "metadata": {
    "tags": []
   },
   "outputs": [],
   "source": [
    "## Two Sided\n",
    "## H0 = u = 20\n",
    "## h1 = u != 20"
   ]
  },
  {
   "cell_type": "code",
   "execution_count": 17,
   "id": "63ce98a2-829c-4179-b7e5-7577431bd739",
   "metadata": {
    "tags": []
   },
   "outputs": [
    {
     "data": {
      "text/plain": [
       "TtestResult(statistic=6.2995405012045, pvalue=7.026433252614745e-07, df=29)"
      ]
     },
     "execution_count": 17,
     "metadata": {},
     "output_type": "execute_result"
    }
   ],
   "source": [
    "ttest = stats.ttest_1samp(a=data, popmean = 20)\n",
    "ttest"
   ]
  },
  {
   "cell_type": "code",
   "execution_count": 18,
   "id": "ae564bda-fc52-4404-9951-85cabc13bbcc",
   "metadata": {
    "tags": []
   },
   "outputs": [
    {
     "name": "stdout",
     "output_type": "stream",
     "text": [
      "True\n"
     ]
    }
   ],
   "source": [
    "pvalue = ttest.pvalue\n",
    "alpha = 0.05\n",
    "print(pvalue < alpha)"
   ]
  },
  {
   "cell_type": "code",
   "execution_count": 19,
   "id": "964bb63d-7759-48ed-8d6d-33067e55eb39",
   "metadata": {
    "tags": []
   },
   "outputs": [
    {
     "name": "stdout",
     "output_type": "stream",
     "text": [
      "Conclusion: we success to reject H0. u != 20\n"
     ]
    }
   ],
   "source": [
    "print(\"Conclusion: we success to reject H0. u != 20\")"
   ]
  },
  {
   "cell_type": "markdown",
   "id": "a121ffe5-e10a-4c50-bafc-0c45a7f92520",
   "metadata": {},
   "source": [
    "## Case Study"
   ]
  },
  {
   "cell_type": "code",
   "execution_count": 1,
   "id": "4dba7106-b713-495d-9893-c2dbe45ee4d3",
   "metadata": {
    "tags": []
   },
   "outputs": [],
   "source": [
    "# Case Study\n",
    "\n",
    "data = [100,150,50,100,130,120,100,110,75,65,150,120,50,100,100,140,90,150,50,90]"
   ]
  },
  {
   "cell_type": "code",
   "execution_count": 2,
   "id": "26cca442-1aad-49f1-8d81-94c9230d5023",
   "metadata": {
    "tags": []
   },
   "outputs": [
    {
     "data": {
      "text/plain": [
       "[100,\n",
       " 150,\n",
       " 50,\n",
       " 100,\n",
       " 130,\n",
       " 120,\n",
       " 100,\n",
       " 110,\n",
       " 75,\n",
       " 65,\n",
       " 150,\n",
       " 120,\n",
       " 50,\n",
       " 100,\n",
       " 100,\n",
       " 140,\n",
       " 90,\n",
       " 150,\n",
       " 50,\n",
       " 90]"
      ]
     },
     "execution_count": 2,
     "metadata": {},
     "output_type": "execute_result"
    }
   ],
   "source": [
    "data"
   ]
  },
  {
   "cell_type": "code",
   "execution_count": 3,
   "id": "6b9b469d-62ab-4bc9-8c92-5d84f1c91ee4",
   "metadata": {
    "tags": []
   },
   "outputs": [],
   "source": [
    "## T-test (One Sided -Greater)\n",
    "\n",
    "## H0: u = 100\n",
    "## H1: u > 100"
   ]
  },
  {
   "cell_type": "code",
   "execution_count": 8,
   "id": "89848fe4-f031-4637-b82d-c152ef9d94a3",
   "metadata": {
    "tags": []
   },
   "outputs": [
    {
     "data": {
      "text/plain": [
       "TtestResult(statistic=0.27316577116663854, pvalue=0.39383644708475746, df=19)"
      ]
     },
     "execution_count": 8,
     "metadata": {},
     "output_type": "execute_result"
    }
   ],
   "source": [
    "ttest = stats.ttest_1samp(a = data, popmean = 100, alternative = \"greater\") # Kalau lebih kecil, alternative isinya \"less\"\n",
    "ttest"
   ]
  },
  {
   "cell_type": "code",
   "execution_count": 10,
   "id": "369cf64a-5148-4b10-bdaf-7eb20c312ee7",
   "metadata": {
    "tags": []
   },
   "outputs": [
    {
     "data": {
      "text/plain": [
       "0.39383644708475746"
      ]
     },
     "execution_count": 10,
     "metadata": {},
     "output_type": "execute_result"
    }
   ],
   "source": [
    "pvalue = ttest.pvalue\n",
    "pvalue"
   ]
  },
  {
   "cell_type": "code",
   "execution_count": 11,
   "id": "40f17838-f7e2-4230-9fc8-6310e0a502bc",
   "metadata": {
    "tags": []
   },
   "outputs": [
    {
     "data": {
      "text/plain": [
       "0.05"
      ]
     },
     "execution_count": 11,
     "metadata": {},
     "output_type": "execute_result"
    }
   ],
   "source": [
    "alpha = 0.05\n",
    "alpha"
   ]
  },
  {
   "cell_type": "code",
   "execution_count": 12,
   "id": "8027f829-1268-4603-8e2d-6efaa9e59f8a",
   "metadata": {
    "tags": []
   },
   "outputs": [
    {
     "name": "stdout",
     "output_type": "stream",
     "text": [
      "False\n"
     ]
    }
   ],
   "source": [
    "print(pvalue < alpha)"
   ]
  },
  {
   "cell_type": "code",
   "execution_count": 13,
   "id": "183c036b-0e97-4959-b293-75ca1f845257",
   "metadata": {
    "tags": []
   },
   "outputs": [
    {
     "name": "stdout",
     "output_type": "stream",
     "text": [
      "Conclusion: we failed to reject H0. Average transaction amount after new campaign is not larger than 100.  Reccomendation: the campaign is not effective. Don't use it for the population.\n"
     ]
    }
   ],
   "source": [
    "print(\"Conclusion: we failed to reject H0. Average transaction amount after new campaign is not larger than 100.  Reccomendation: the campaign is not effective. Don't use it for the population.\")"
   ]
  },
  {
   "cell_type": "code",
   "execution_count": null,
   "id": "ece86fa5-1cf9-4657-859e-e9a145193159",
   "metadata": {},
   "outputs": [],
   "source": []
  }
 ],
 "metadata": {
  "kernelspec": {
   "display_name": "Python 3 (ipykernel)",
   "language": "python",
   "name": "python3"
  },
  "language_info": {
   "codemirror_mode": {
    "name": "ipython",
    "version": 3
   },
   "file_extension": ".py",
   "mimetype": "text/x-python",
   "name": "python",
   "nbconvert_exporter": "python",
   "pygments_lexer": "ipython3",
   "version": "3.11.4"
  }
 },
 "nbformat": 4,
 "nbformat_minor": 5
}
