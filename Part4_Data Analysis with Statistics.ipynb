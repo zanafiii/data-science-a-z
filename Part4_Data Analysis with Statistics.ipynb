{
 "cells": [
  {
   "cell_type": "markdown",
   "id": "0f1733b9-8e9e-4871-98c4-5b21a118cde7",
   "metadata": {},
   "source": [
    "# Part 4 - Data Analysis with Statistics"
   ]
  },
  {
   "cell_type": "markdown",
   "id": "70fc797b-9f33-455d-8c82-d1e28574086b",
   "metadata": {},
   "source": [
    "## Measure of Central Tendency and Variability"
   ]
  },
  {
   "cell_type": "code",
   "execution_count": 4,
   "id": "451f5767-2632-4a25-9434-6272c3805e54",
   "metadata": {
    "tags": []
   },
   "outputs": [],
   "source": [
    "import statistics\n",
    "import numpy as np"
   ]
  },
  {
   "cell_type": "code",
   "execution_count": 5,
   "id": "8d6bd871-465b-4eab-b504-30bf8f13aa3b",
   "metadata": {
    "tags": []
   },
   "outputs": [
    {
     "data": {
      "text/plain": [
       "array([36, 64, 58, 99, 33, 73, 79,  7, 83, 16, 15, 97, 23,  3, 83, 52, 35,\n",
       "       24, 96,  3, 72, 46, 35, 78, 52, 92, 76,  1, 15,  8, 21, 44, 59, 45,\n",
       "       48, 83, 13, 87, 66, 30, 32, 14, 81, 86, 74, 35, 89, 45,  5, 33, 39,\n",
       "       22, 10, 94, 92, 23, 73, 12, 68, 48, 40, 70, 24,  0, 34, 67, 20, 17,\n",
       "       92, 10, 93,  2, 25, 61, 62, 62, 34, 56, 16, 41, 86, 22, 51, 34, 10,\n",
       "       55, 79, 36, 56, 84, 62, 60, 81, 35, 87, 96, 47, 64,  5, 93])"
      ]
     },
     "execution_count": 5,
     "metadata": {},
     "output_type": "execute_result"
    }
   ],
   "source": [
    "## Data\n",
    "\n",
    "data_num = np.random.randint(0, 100, 100)\n",
    "data_num"
   ]
  },
  {
   "cell_type": "code",
   "execution_count": 15,
   "id": "2dfe51b6-12be-4605-a964-16a02e7ec59a",
   "metadata": {
    "tags": []
   },
   "outputs": [
    {
     "data": {
      "text/plain": [
       "['S', 'M', 'L', 'XL', 'L', 'S']"
      ]
     },
     "execution_count": 15,
     "metadata": {},
     "output_type": "execute_result"
    }
   ],
   "source": [
    "data_cat = [\"S\",\"M\",\"L\",\"XL\",\"L\",\"S\"]\n",
    "data_cat"
   ]
  },
  {
   "cell_type": "code",
   "execution_count": 7,
   "id": "f643c03a-4e15-458d-a433-2583a0fe0305",
   "metadata": {
    "tags": []
   },
   "outputs": [
    {
     "data": {
      "text/plain": [
       "48"
      ]
     },
     "execution_count": 7,
     "metadata": {},
     "output_type": "execute_result"
    }
   ],
   "source": [
    "## Central Tendency\n",
    "\n",
    "statistics.mean(data_num)"
   ]
  },
  {
   "cell_type": "code",
   "execution_count": 8,
   "id": "8c19ccbf-b4d0-4124-9087-77092302e5c1",
   "metadata": {
    "tags": []
   },
   "outputs": [
    {
     "data": {
      "text/plain": [
       "47.5"
      ]
     },
     "execution_count": 8,
     "metadata": {},
     "output_type": "execute_result"
    }
   ],
   "source": [
    "statistics.median(data_num)"
   ]
  },
  {
   "cell_type": "code",
   "execution_count": 9,
   "id": "219c5ddb-c800-4389-b7a4-700adad3546c",
   "metadata": {
    "tags": []
   },
   "outputs": [
    {
     "data": {
      "text/plain": [
       "35"
      ]
     },
     "execution_count": 9,
     "metadata": {},
     "output_type": "execute_result"
    }
   ],
   "source": [
    "statistics.mode(data_num)"
   ]
  },
  {
   "cell_type": "code",
   "execution_count": 10,
   "id": "35078cbe-3051-4a32-b893-6be137d06f76",
   "metadata": {
    "tags": []
   },
   "outputs": [
    {
     "data": {
      "text/plain": [
       "'S'"
      ]
     },
     "execution_count": 10,
     "metadata": {},
     "output_type": "execute_result"
    }
   ],
   "source": [
    "statistics.mode(data_cat)"
   ]
  },
  {
   "cell_type": "code",
   "execution_count": 16,
   "id": "e9e37326-934f-45ff-9375-dd36f7b27af4",
   "metadata": {
    "tags": []
   },
   "outputs": [
    {
     "data": {
      "text/plain": [
       "['S', 'L']"
      ]
     },
     "execution_count": 16,
     "metadata": {},
     "output_type": "execute_result"
    }
   ],
   "source": [
    "statistics.multimode(data_cat)"
   ]
  },
  {
   "cell_type": "code",
   "execution_count": 17,
   "id": "f5ccf4ea-ac99-4d98-adc2-4a1d981c38ae",
   "metadata": {
    "tags": []
   },
   "outputs": [
    {
     "data": {
      "text/plain": [
       "852.4964"
      ]
     },
     "execution_count": 17,
     "metadata": {},
     "output_type": "execute_result"
    }
   ],
   "source": [
    "## Variability\n",
    "\n",
    "np.var(data_num)"
   ]
  },
  {
   "cell_type": "code",
   "execution_count": 20,
   "id": "e36d5e48-fabe-43e6-b2d4-f1c6ce3a94d1",
   "metadata": {
    "tags": []
   },
   "outputs": [
    {
     "data": {
      "text/plain": [
       "29.19754099235071"
      ]
     },
     "execution_count": 20,
     "metadata": {},
     "output_type": "execute_result"
    }
   ],
   "source": [
    "np.std(data_num)"
   ]
  },
  {
   "cell_type": "code",
   "execution_count": 21,
   "id": "ac6482e7-bcda-4d6c-a650-49619d680371",
   "metadata": {
    "tags": []
   },
   "outputs": [
    {
     "data": {
      "text/plain": [
       "99"
      ]
     },
     "execution_count": 21,
     "metadata": {},
     "output_type": "execute_result"
    }
   ],
   "source": [
    "np.max(data_num) - np.min(data_num)"
   ]
  },
  {
   "cell_type": "code",
   "execution_count": 23,
   "id": "8f4e5989-5899-4c6b-9486-548a2e6bf9bc",
   "metadata": {
    "tags": []
   },
   "outputs": [
    {
     "name": "stdout",
     "output_type": "stream",
     "text": [
      "23.0\n",
      "47.5\n",
      "74.5\n"
     ]
    }
   ],
   "source": [
    "print(np.quantile(data_num, 0.25)) ## Q1\n",
    "print(np.quantile(data_num, 0.5)) ## Q2\n",
    "print(np.quantile(data_num, 0.75)) ## Q3"
   ]
  },
  {
   "cell_type": "code",
   "execution_count": null,
   "id": "a968fef0-3cfd-4ac2-9e95-61b0aa33afdc",
   "metadata": {},
   "outputs": [],
   "source": []
  }
 ],
 "metadata": {
  "kernelspec": {
   "display_name": "Python 3 (ipykernel)",
   "language": "python",
   "name": "python3"
  },
  "language_info": {
   "codemirror_mode": {
    "name": "ipython",
    "version": 3
   },
   "file_extension": ".py",
   "mimetype": "text/x-python",
   "name": "python",
   "nbconvert_exporter": "python",
   "pygments_lexer": "ipython3",
   "version": "3.11.4"
  }
 },
 "nbformat": 4,
 "nbformat_minor": 5
}
