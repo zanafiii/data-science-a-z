{
 "cells": [
  {
   "cell_type": "code",
   "execution_count": 1,
   "id": "1fea3296-09d2-4792-93f1-01bb2e45a714",
   "metadata": {
    "tags": []
   },
   "outputs": [
    {
     "name": "stdout",
     "output_type": "stream",
     "text": [
      "Azzam\n"
     ]
    }
   ],
   "source": [
    "name = \"Azzam\"\n",
    "print(name)"
   ]
  },
  {
   "cell_type": "code",
   "execution_count": null,
   "id": "583b26fb-92c5-4c8a-aa18-df1532c4e972",
   "metadata": {},
   "outputs": [],
   "source": [
    "name = \"A\""
   ]
  }
 ],
 "metadata": {
  "kernelspec": {
   "display_name": "Python 3 (ipykernel)",
   "language": "python",
   "name": "python3"
  },
  "language_info": {
   "codemirror_mode": {
    "name": "ipython",
    "version": 3
   },
   "file_extension": ".py",
   "mimetype": "text/x-python",
   "name": "python",
   "nbconvert_exporter": "python",
   "pygments_lexer": "ipython3",
   "version": "3.11.4"
  }
 },
 "nbformat": 4,
 "nbformat_minor": 5
}
