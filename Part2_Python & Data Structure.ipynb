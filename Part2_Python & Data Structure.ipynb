{
 "cells": [
  {
   "cell_type": "markdown",
   "id": "247eaa32-d946-48c7-bbc0-1a38f491c7fb",
   "metadata": {
    "tags": []
   },
   "source": [
    "**Numeric Operations**"
   ]
  },
  {
   "cell_type": "code",
   "execution_count": 1,
   "id": "6e241414-2a74-463d-b127-21c2d143f6db",
   "metadata": {
    "tags": []
   },
   "outputs": [],
   "source": [
    "a = 6\n",
    "b = 3"
   ]
  },
  {
   "cell_type": "code",
   "execution_count": 3,
   "id": "b9862586-8e09-40c9-98ff-817c380b85da",
   "metadata": {
    "tags": []
   },
   "outputs": [
    {
     "name": "stdout",
     "output_type": "stream",
     "text": [
      "9\n",
      "3\n",
      "18\n",
      "2.0\n",
      "216\n"
     ]
    }
   ],
   "source": [
    "print(a+b)\n",
    "print(a-b)\n",
    "print(a*b)\n",
    "print(a/b)\n",
    "print(a**b)"
   ]
  },
  {
   "cell_type": "code",
   "execution_count": 6,
   "id": "247f1040-a96d-4573-af49-8e5f3eed2a5c",
   "metadata": {
    "tags": []
   },
   "outputs": [
    {
     "name": "stdout",
     "output_type": "stream",
     "text": [
      "False\n",
      "True\n",
      "False\n",
      "True\n",
      "False\n"
     ]
    }
   ],
   "source": [
    "print(a == b)\n",
    "print(a > b)\n",
    "print(a < b)\n",
    "print(a >= b)\n",
    "print(a <= b)"
   ]
  },
  {
   "cell_type": "code",
   "execution_count": 8,
   "id": "66bfc626-ef2c-4397-b518-8ff50b52ade6",
   "metadata": {
    "tags": []
   },
   "outputs": [
    {
     "data": {
      "text/plain": [
       "6.23451"
      ]
     },
     "execution_count": 8,
     "metadata": {},
     "output_type": "execute_result"
    }
   ],
   "source": [
    "a = 6.23451\n",
    "a"
   ]
  },
  {
   "cell_type": "code",
   "execution_count": 11,
   "id": "cb72dda0-ded4-4ccd-bb39-43de858b3fbc",
   "metadata": {
    "tags": []
   },
   "outputs": [
    {
     "data": {
      "text/plain": [
       "6.235"
      ]
     },
     "execution_count": 11,
     "metadata": {},
     "output_type": "execute_result"
    }
   ],
   "source": [
    "round(a, 3)"
   ]
  },
  {
   "cell_type": "code",
   "execution_count": 12,
   "id": "4be11772-7961-43bb-abc2-17cd670b0844",
   "metadata": {
    "tags": []
   },
   "outputs": [
    {
     "data": {
      "text/plain": [
       "6"
      ]
     },
     "execution_count": 12,
     "metadata": {},
     "output_type": "execute_result"
    }
   ],
   "source": [
    "int(a)"
   ]
  },
  {
   "cell_type": "markdown",
   "id": "fee0ce3e-b55a-4044-92da-a10fa7028ddb",
   "metadata": {},
   "source": [
    "**String Operations**"
   ]
  },
  {
   "cell_type": "code",
   "execution_count": 13,
   "id": "ec24edb8-5a05-43fc-9d6e-93e652cc3b8f",
   "metadata": {
    "tags": []
   },
   "outputs": [
    {
     "name": "stdout",
     "output_type": "stream",
     "text": [
      "Azzam\n",
      "Hanafi\n"
     ]
    }
   ],
   "source": [
    "first_name = \"Azzam\"\n",
    "last_name = \"Hanafi\"\n",
    "print(first_name)\n",
    "print(last_name)"
   ]
  },
  {
   "cell_type": "code",
   "execution_count": 14,
   "id": "662bbf41-793f-4683-8157-8be8360bbd31",
   "metadata": {
    "tags": []
   },
   "outputs": [
    {
     "data": {
      "text/plain": [
       "'AzzamHanafi'"
      ]
     },
     "execution_count": 14,
     "metadata": {},
     "output_type": "execute_result"
    }
   ],
   "source": [
    "first_name + last_name"
   ]
  },
  {
   "cell_type": "code",
   "execution_count": 15,
   "id": "74e804d8-6de0-4f0f-903e-48b11248b61d",
   "metadata": {
    "tags": []
   },
   "outputs": [
    {
     "data": {
      "text/plain": [
       "'Azzam Hanafi'"
      ]
     },
     "execution_count": 15,
     "metadata": {},
     "output_type": "execute_result"
    }
   ],
   "source": [
    "first_name + \" \" + last_name"
   ]
  },
  {
   "cell_type": "code",
   "execution_count": 17,
   "id": "613b4a96-424d-4e9a-bb2c-17468a4442d8",
   "metadata": {
    "tags": []
   },
   "outputs": [
    {
     "data": {
      "text/plain": [
       "'Azzam_Hanafi'"
      ]
     },
     "execution_count": 17,
     "metadata": {},
     "output_type": "execute_result"
    }
   ],
   "source": [
    "first_name + \"_\" + last_name"
   ]
  },
  {
   "cell_type": "code",
   "execution_count": 18,
   "id": "86adcd95-9d7f-443a-92e6-9b1edb4c945f",
   "metadata": {
    "tags": []
   },
   "outputs": [
    {
     "data": {
      "text/plain": [
       "'azzam'"
      ]
     },
     "execution_count": 18,
     "metadata": {},
     "output_type": "execute_result"
    }
   ],
   "source": [
    "str.lower(first_name)"
   ]
  },
  {
   "cell_type": "code",
   "execution_count": 19,
   "id": "1bff8d78-9803-4698-a621-45d6a2538ad0",
   "metadata": {
    "tags": []
   },
   "outputs": [
    {
     "data": {
      "text/plain": [
       "'hanafi'"
      ]
     },
     "execution_count": 19,
     "metadata": {},
     "output_type": "execute_result"
    }
   ],
   "source": [
    "str.lower(last_name)"
   ]
  },
  {
   "cell_type": "code",
   "execution_count": 20,
   "id": "6b78b197-6dd9-4deb-9297-39ced091571d",
   "metadata": {
    "tags": []
   },
   "outputs": [
    {
     "data": {
      "text/plain": [
       "'AZZAM'"
      ]
     },
     "execution_count": 20,
     "metadata": {},
     "output_type": "execute_result"
    }
   ],
   "source": [
    "str.upper(first_name)"
   ]
  },
  {
   "cell_type": "code",
   "execution_count": 21,
   "id": "16b2a68a-9281-4926-b0a9-35744632d2b2",
   "metadata": {
    "tags": []
   },
   "outputs": [
    {
     "data": {
      "text/plain": [
       "'HANAFI'"
      ]
     },
     "execution_count": 21,
     "metadata": {},
     "output_type": "execute_result"
    }
   ],
   "source": [
    "str.upper(last_name)"
   ]
  },
  {
   "cell_type": "code",
   "execution_count": 22,
   "id": "dccdeba9-4e0b-41c7-8cd2-0d672bd21ce3",
   "metadata": {
    "tags": []
   },
   "outputs": [
    {
     "name": "stdout",
     "output_type": "stream",
     "text": [
      "fast campus course\n"
     ]
    }
   ],
   "source": [
    "name = \"fast campus course\"\n",
    "print(name)"
   ]
  },
  {
   "cell_type": "code",
   "execution_count": 24,
   "id": "b6c6d844-3ce7-4650-b117-70db9ca95ee9",
   "metadata": {
    "tags": []
   },
   "outputs": [
    {
     "data": {
      "text/plain": [
       "'fast campus courses'"
      ]
     },
     "execution_count": 24,
     "metadata": {},
     "output_type": "execute_result"
    }
   ],
   "source": [
    "name.replace(\"course\", \"courses\")"
   ]
  },
  {
   "cell_type": "code",
   "execution_count": 25,
   "id": "22591d5e-2e75-4268-b583-565a0c1f5452",
   "metadata": {
    "tags": []
   },
   "outputs": [
    {
     "data": {
      "text/plain": [
       "'fast campus '"
      ]
     },
     "execution_count": 25,
     "metadata": {},
     "output_type": "execute_result"
    }
   ],
   "source": [
    "name.replace(\"course\", \"\")"
   ]
  },
  {
   "cell_type": "code",
   "execution_count": 26,
   "id": "d620e74d-a1f4-4c88-899e-bacba6223495",
   "metadata": {
    "tags": []
   },
   "outputs": [
    {
     "data": {
      "text/plain": [
       "'fast campus'"
      ]
     },
     "execution_count": 26,
     "metadata": {},
     "output_type": "execute_result"
    }
   ],
   "source": [
    "name.replace(\" course\", \"\")"
   ]
  },
  {
   "cell_type": "code",
   "execution_count": null,
   "id": "7672793b-2059-4914-8829-9d5219177e17",
   "metadata": {},
   "outputs": [],
   "source": []
  }
 ],
 "metadata": {
  "kernelspec": {
   "display_name": "Python 3 (ipykernel)",
   "language": "python",
   "name": "python3"
  },
  "language_info": {
   "codemirror_mode": {
    "name": "ipython",
    "version": 3
   },
   "file_extension": ".py",
   "mimetype": "text/x-python",
   "name": "python",
   "nbconvert_exporter": "python",
   "pygments_lexer": "ipython3",
   "version": "3.11.4"
  }
 },
 "nbformat": 4,
 "nbformat_minor": 5
}
