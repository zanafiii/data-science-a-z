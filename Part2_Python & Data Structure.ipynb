{
 "cells": [
  {
   "cell_type": "markdown",
   "id": "247eaa32-d946-48c7-bbc0-1a38f491c7fb",
   "metadata": {
    "tags": []
   },
   "source": [
    "### **Numeric Operations**"
   ]
  },
  {
   "cell_type": "code",
   "execution_count": 1,
   "id": "6e241414-2a74-463d-b127-21c2d143f6db",
   "metadata": {
    "tags": []
   },
   "outputs": [],
   "source": [
    "a = 6\n",
    "b = 3"
   ]
  },
  {
   "cell_type": "code",
   "execution_count": 3,
   "id": "b9862586-8e09-40c9-98ff-817c380b85da",
   "metadata": {
    "tags": []
   },
   "outputs": [
    {
     "name": "stdout",
     "output_type": "stream",
     "text": [
      "9\n",
      "3\n",
      "18\n",
      "2.0\n",
      "216\n"
     ]
    }
   ],
   "source": [
    "print(a+b)\n",
    "print(a-b)\n",
    "print(a*b)\n",
    "print(a/b)\n",
    "print(a**b)"
   ]
  },
  {
   "cell_type": "code",
   "execution_count": 6,
   "id": "247f1040-a96d-4573-af49-8e5f3eed2a5c",
   "metadata": {
    "tags": []
   },
   "outputs": [
    {
     "name": "stdout",
     "output_type": "stream",
     "text": [
      "False\n",
      "True\n",
      "False\n",
      "True\n",
      "False\n"
     ]
    }
   ],
   "source": [
    "print(a == b)\n",
    "print(a > b)\n",
    "print(a < b)\n",
    "print(a >= b)\n",
    "print(a <= b)"
   ]
  },
  {
   "cell_type": "code",
   "execution_count": 8,
   "id": "66bfc626-ef2c-4397-b518-8ff50b52ade6",
   "metadata": {
    "tags": []
   },
   "outputs": [
    {
     "data": {
      "text/plain": [
       "6.23451"
      ]
     },
     "execution_count": 8,
     "metadata": {},
     "output_type": "execute_result"
    }
   ],
   "source": [
    "a = 6.23451\n",
    "a"
   ]
  },
  {
   "cell_type": "code",
   "execution_count": 11,
   "id": "cb72dda0-ded4-4ccd-bb39-43de858b3fbc",
   "metadata": {
    "tags": []
   },
   "outputs": [
    {
     "data": {
      "text/plain": [
       "6.235"
      ]
     },
     "execution_count": 11,
     "metadata": {},
     "output_type": "execute_result"
    }
   ],
   "source": [
    "round(a, 3)"
   ]
  },
  {
   "cell_type": "code",
   "execution_count": 12,
   "id": "4be11772-7961-43bb-abc2-17cd670b0844",
   "metadata": {
    "tags": []
   },
   "outputs": [
    {
     "data": {
      "text/plain": [
       "6"
      ]
     },
     "execution_count": 12,
     "metadata": {},
     "output_type": "execute_result"
    }
   ],
   "source": [
    "int(a)"
   ]
  },
  {
   "cell_type": "markdown",
   "id": "fee0ce3e-b55a-4044-92da-a10fa7028ddb",
   "metadata": {},
   "source": [
    "### **String Operations**"
   ]
  },
  {
   "cell_type": "code",
   "execution_count": 13,
   "id": "ec24edb8-5a05-43fc-9d6e-93e652cc3b8f",
   "metadata": {
    "tags": []
   },
   "outputs": [
    {
     "name": "stdout",
     "output_type": "stream",
     "text": [
      "Azzam\n",
      "Hanafi\n"
     ]
    }
   ],
   "source": [
    "first_name = \"Azzam\"\n",
    "last_name = \"Hanafi\"\n",
    "print(first_name)\n",
    "print(last_name)"
   ]
  },
  {
   "cell_type": "code",
   "execution_count": 14,
   "id": "662bbf41-793f-4683-8157-8be8360bbd31",
   "metadata": {
    "tags": []
   },
   "outputs": [
    {
     "data": {
      "text/plain": [
       "'AzzamHanafi'"
      ]
     },
     "execution_count": 14,
     "metadata": {},
     "output_type": "execute_result"
    }
   ],
   "source": [
    "first_name + last_name"
   ]
  },
  {
   "cell_type": "code",
   "execution_count": 15,
   "id": "74e804d8-6de0-4f0f-903e-48b11248b61d",
   "metadata": {
    "tags": []
   },
   "outputs": [
    {
     "data": {
      "text/plain": [
       "'Azzam Hanafi'"
      ]
     },
     "execution_count": 15,
     "metadata": {},
     "output_type": "execute_result"
    }
   ],
   "source": [
    "first_name + \" \" + last_name"
   ]
  },
  {
   "cell_type": "code",
   "execution_count": 17,
   "id": "613b4a96-424d-4e9a-bb2c-17468a4442d8",
   "metadata": {
    "tags": []
   },
   "outputs": [
    {
     "data": {
      "text/plain": [
       "'Azzam_Hanafi'"
      ]
     },
     "execution_count": 17,
     "metadata": {},
     "output_type": "execute_result"
    }
   ],
   "source": [
    "first_name + \"_\" + last_name"
   ]
  },
  {
   "cell_type": "code",
   "execution_count": 18,
   "id": "86adcd95-9d7f-443a-92e6-9b1edb4c945f",
   "metadata": {
    "tags": []
   },
   "outputs": [
    {
     "data": {
      "text/plain": [
       "'azzam'"
      ]
     },
     "execution_count": 18,
     "metadata": {},
     "output_type": "execute_result"
    }
   ],
   "source": [
    "str.lower(first_name)"
   ]
  },
  {
   "cell_type": "code",
   "execution_count": 19,
   "id": "1bff8d78-9803-4698-a621-45d6a2538ad0",
   "metadata": {
    "tags": []
   },
   "outputs": [
    {
     "data": {
      "text/plain": [
       "'hanafi'"
      ]
     },
     "execution_count": 19,
     "metadata": {},
     "output_type": "execute_result"
    }
   ],
   "source": [
    "str.lower(last_name)"
   ]
  },
  {
   "cell_type": "code",
   "execution_count": 20,
   "id": "6b78b197-6dd9-4deb-9297-39ced091571d",
   "metadata": {
    "tags": []
   },
   "outputs": [
    {
     "data": {
      "text/plain": [
       "'AZZAM'"
      ]
     },
     "execution_count": 20,
     "metadata": {},
     "output_type": "execute_result"
    }
   ],
   "source": [
    "str.upper(first_name)"
   ]
  },
  {
   "cell_type": "code",
   "execution_count": 21,
   "id": "16b2a68a-9281-4926-b0a9-35744632d2b2",
   "metadata": {
    "tags": []
   },
   "outputs": [
    {
     "data": {
      "text/plain": [
       "'HANAFI'"
      ]
     },
     "execution_count": 21,
     "metadata": {},
     "output_type": "execute_result"
    }
   ],
   "source": [
    "str.upper(last_name)"
   ]
  },
  {
   "cell_type": "code",
   "execution_count": 22,
   "id": "dccdeba9-4e0b-41c7-8cd2-0d672bd21ce3",
   "metadata": {
    "tags": []
   },
   "outputs": [
    {
     "name": "stdout",
     "output_type": "stream",
     "text": [
      "fast campus course\n"
     ]
    }
   ],
   "source": [
    "name = \"fast campus course\"\n",
    "print(name)"
   ]
  },
  {
   "cell_type": "code",
   "execution_count": 24,
   "id": "b6c6d844-3ce7-4650-b117-70db9ca95ee9",
   "metadata": {
    "tags": []
   },
   "outputs": [
    {
     "data": {
      "text/plain": [
       "'fast campus courses'"
      ]
     },
     "execution_count": 24,
     "metadata": {},
     "output_type": "execute_result"
    }
   ],
   "source": [
    "name.replace(\"course\", \"courses\")"
   ]
  },
  {
   "cell_type": "code",
   "execution_count": 25,
   "id": "22591d5e-2e75-4268-b583-565a0c1f5452",
   "metadata": {
    "tags": []
   },
   "outputs": [
    {
     "data": {
      "text/plain": [
       "'fast campus '"
      ]
     },
     "execution_count": 25,
     "metadata": {},
     "output_type": "execute_result"
    }
   ],
   "source": [
    "name.replace(\"course\", \"\")"
   ]
  },
  {
   "cell_type": "code",
   "execution_count": 26,
   "id": "d620e74d-a1f4-4c88-899e-bacba6223495",
   "metadata": {
    "tags": []
   },
   "outputs": [
    {
     "data": {
      "text/plain": [
       "'fast campus'"
      ]
     },
     "execution_count": 26,
     "metadata": {},
     "output_type": "execute_result"
    }
   ],
   "source": [
    "name.replace(\" course\", \"\")"
   ]
  },
  {
   "cell_type": "markdown",
   "id": "58cb48aa-a0d3-4a43-96a0-cc82dc6328b8",
   "metadata": {},
   "source": [
    "## **LIST**"
   ]
  },
  {
   "cell_type": "markdown",
   "id": "bf2512c8-d58e-438b-bbdb-eca80f45f0be",
   "metadata": {},
   "source": [
    "#### **Indexing & Operations**"
   ]
  },
  {
   "cell_type": "code",
   "execution_count": 27,
   "id": "a6a8a8da-5f71-4c45-8b14-a419dfff66e3",
   "metadata": {
    "tags": []
   },
   "outputs": [],
   "source": [
    "customers = [123,124,125,126,127,128]"
   ]
  },
  {
   "cell_type": "code",
   "execution_count": 28,
   "id": "2d3aade9-09e8-4ea8-900f-6a320c07be14",
   "metadata": {
    "tags": []
   },
   "outputs": [
    {
     "data": {
      "text/plain": [
       "[123, 124, 125, 126, 127, 128]"
      ]
     },
     "execution_count": 28,
     "metadata": {},
     "output_type": "execute_result"
    }
   ],
   "source": [
    "customers"
   ]
  },
  {
   "cell_type": "code",
   "execution_count": 29,
   "id": "b043985a-5039-4bf9-bc2d-4f6c0b53f74f",
   "metadata": {
    "tags": []
   },
   "outputs": [
    {
     "data": {
      "text/plain": [
       "123"
      ]
     },
     "execution_count": 29,
     "metadata": {},
     "output_type": "execute_result"
    }
   ],
   "source": [
    "customers[0]"
   ]
  },
  {
   "cell_type": "code",
   "execution_count": 30,
   "id": "f51819f6-7ca2-4bc4-a0e4-6c440175b043",
   "metadata": {
    "tags": []
   },
   "outputs": [
    {
     "data": {
      "text/plain": [
       "124"
      ]
     },
     "execution_count": 30,
     "metadata": {},
     "output_type": "execute_result"
    }
   ],
   "source": [
    "customers[1]"
   ]
  },
  {
   "cell_type": "code",
   "execution_count": 31,
   "id": "ca4a7a73-ddb2-48f5-9f92-b20471892b17",
   "metadata": {
    "tags": []
   },
   "outputs": [
    {
     "data": {
      "text/plain": [
       "128"
      ]
     },
     "execution_count": 31,
     "metadata": {},
     "output_type": "execute_result"
    }
   ],
   "source": [
    "customers[-1]"
   ]
  },
  {
   "cell_type": "code",
   "execution_count": 32,
   "id": "b7ac575e-bd07-4330-9af1-2f861623c583",
   "metadata": {
    "tags": []
   },
   "outputs": [
    {
     "data": {
      "text/plain": [
       "127"
      ]
     },
     "execution_count": 32,
     "metadata": {},
     "output_type": "execute_result"
    }
   ],
   "source": [
    "customers[-2]"
   ]
  },
  {
   "cell_type": "code",
   "execution_count": 33,
   "id": "284d437d-a92e-4a76-a296-7ef875226910",
   "metadata": {
    "tags": []
   },
   "outputs": [
    {
     "data": {
      "text/plain": [
       "[123, 124, 125]"
      ]
     },
     "execution_count": 33,
     "metadata": {},
     "output_type": "execute_result"
    }
   ],
   "source": [
    "customers[0:3]"
   ]
  },
  {
   "cell_type": "code",
   "execution_count": 34,
   "id": "6fec40a6-31d4-4205-97c7-11c12d858e75",
   "metadata": {
    "tags": []
   },
   "outputs": [
    {
     "data": {
      "text/plain": [
       "[124, 125, 126]"
      ]
     },
     "execution_count": 34,
     "metadata": {},
     "output_type": "execute_result"
    }
   ],
   "source": [
    "customers[1:4]"
   ]
  },
  {
   "cell_type": "code",
   "execution_count": 35,
   "id": "5056b4ae-98a7-4a18-b2b2-d74f634ab8bf",
   "metadata": {
    "tags": []
   },
   "outputs": [
    {
     "data": {
      "text/plain": [
       "[125, 126, 127]"
      ]
     },
     "execution_count": 35,
     "metadata": {},
     "output_type": "execute_result"
    }
   ],
   "source": [
    "customers[-4:-1]"
   ]
  },
  {
   "cell_type": "code",
   "execution_count": 36,
   "id": "f3d20e39-bac0-43cc-8b84-f8a54a0f4195",
   "metadata": {
    "tags": []
   },
   "outputs": [
    {
     "data": {
      "text/plain": [
       "[123, 124, 125]"
      ]
     },
     "execution_count": 36,
     "metadata": {},
     "output_type": "execute_result"
    }
   ],
   "source": [
    "customers[:3]"
   ]
  },
  {
   "cell_type": "code",
   "execution_count": 37,
   "id": "bfbee497-2b16-453a-83b3-7c1aa43a22cb",
   "metadata": {
    "tags": []
   },
   "outputs": [
    {
     "data": {
      "text/plain": [
       "[125, 126, 127, 128]"
      ]
     },
     "execution_count": 37,
     "metadata": {},
     "output_type": "execute_result"
    }
   ],
   "source": [
    "customers[-4:]"
   ]
  },
  {
   "cell_type": "code",
   "execution_count": 38,
   "id": "e06aaf60-db84-47ec-864d-91200e508924",
   "metadata": {
    "tags": []
   },
   "outputs": [
    {
     "data": {
      "text/plain": [
       "6"
      ]
     },
     "execution_count": 38,
     "metadata": {},
     "output_type": "execute_result"
    }
   ],
   "source": [
    "#len\n",
    "\n",
    "len(customers)"
   ]
  },
  {
   "cell_type": "code",
   "execution_count": 39,
   "id": "db92a141-e412-4287-a554-0ccf9b5501a7",
   "metadata": {
    "tags": []
   },
   "outputs": [],
   "source": [
    "#append\n",
    "\n",
    "customers.append(129)"
   ]
  },
  {
   "cell_type": "code",
   "execution_count": 40,
   "id": "c3e3e156-5fc4-4c95-8533-036472506212",
   "metadata": {
    "tags": []
   },
   "outputs": [
    {
     "data": {
      "text/plain": [
       "[123, 124, 125, 126, 127, 128, 129]"
      ]
     },
     "execution_count": 40,
     "metadata": {},
     "output_type": "execute_result"
    }
   ],
   "source": [
    "customers"
   ]
  },
  {
   "cell_type": "code",
   "execution_count": 42,
   "id": "9dc06917-e205-4d6f-8501-39871ae555de",
   "metadata": {
    "tags": []
   },
   "outputs": [
    {
     "data": {
      "text/plain": [
       "[123, 124, 125, 126, 127, 128, 129]"
      ]
     },
     "execution_count": 42,
     "metadata": {},
     "output_type": "execute_result"
    }
   ],
   "source": [
    "#copy\n",
    "\n",
    "customers2 = customers.copy()\n",
    "customers2"
   ]
  },
  {
   "cell_type": "code",
   "execution_count": 43,
   "id": "9fae41fe-88f8-492b-9ca5-8a5fdb7156c2",
   "metadata": {
    "tags": []
   },
   "outputs": [
    {
     "data": {
      "text/plain": [
       "[]"
      ]
     },
     "execution_count": 43,
     "metadata": {},
     "output_type": "execute_result"
    }
   ],
   "source": [
    "#clear\n",
    "\n",
    "customers.clear()\n",
    "customers"
   ]
  },
  {
   "cell_type": "code",
   "execution_count": 46,
   "id": "3cf5f968-0dbc-43c0-b64f-2a58d2581430",
   "metadata": {
    "tags": []
   },
   "outputs": [],
   "source": [
    "customers = [123,124,125,126,127,128]"
   ]
  },
  {
   "cell_type": "code",
   "execution_count": 47,
   "id": "a895a35e-37a8-48ce-b8f3-3303e447c9fc",
   "metadata": {
    "tags": []
   },
   "outputs": [
    {
     "data": {
      "text/plain": [
       "[123, 124, 130, 125, 126, 127, 128]"
      ]
     },
     "execution_count": 47,
     "metadata": {},
     "output_type": "execute_result"
    }
   ],
   "source": [
    "#insert\n",
    "\n",
    "customers.insert(2, 130)\n",
    "customers"
   ]
  },
  {
   "cell_type": "code",
   "execution_count": 51,
   "id": "8368ea1c-71b1-4372-9df4-f93bc18cb68c",
   "metadata": {
    "tags": []
   },
   "outputs": [
    {
     "data": {
      "text/plain": [
       "1"
      ]
     },
     "execution_count": 51,
     "metadata": {},
     "output_type": "execute_result"
    }
   ],
   "source": [
    "#index\n",
    "\n",
    "customers.index(124)"
   ]
  },
  {
   "cell_type": "code",
   "execution_count": 52,
   "id": "96f86595-2e02-4d3b-bb23-f77403aa78b6",
   "metadata": {
    "tags": []
   },
   "outputs": [],
   "source": [
    "#extend\n",
    "\n",
    "additional_customers = [131,132,133]\n",
    "\n",
    "customers.extend(additional_customers)"
   ]
  },
  {
   "cell_type": "code",
   "execution_count": 53,
   "id": "de7ed388-86c9-47a9-8f4d-372a8fb41826",
   "metadata": {
    "tags": []
   },
   "outputs": [
    {
     "data": {
      "text/plain": [
       "[123, 124, 130, 125, 126, 127, 128, 131, 132, 133]"
      ]
     },
     "execution_count": 53,
     "metadata": {},
     "output_type": "execute_result"
    }
   ],
   "source": [
    "customers"
   ]
  },
  {
   "cell_type": "markdown",
   "id": "67f84696-8068-436b-94cf-9bd5a61ee272",
   "metadata": {},
   "source": [
    "### **Multidimensional LIST**"
   ]
  },
  {
   "cell_type": "markdown",
   "id": "3b695f73-e950-453b-b293-43a21bad1f6a",
   "metadata": {
    "tags": []
   },
   "source": [
    "#### **Indexing & Operations**"
   ]
  },
  {
   "cell_type": "code",
   "execution_count": 55,
   "id": "37cb89d3-5258-459d-9dd0-a85a48ffacc2",
   "metadata": {
    "tags": []
   },
   "outputs": [],
   "source": [
    "customers = [[123,124,125],[\"Adam\",\"Ann\",\"Ed\"],[25,23,28]]"
   ]
  },
  {
   "cell_type": "code",
   "execution_count": 61,
   "id": "997c1904-de5b-4aee-b877-b672b3864e7e",
   "metadata": {
    "tags": []
   },
   "outputs": [
    {
     "data": {
      "text/plain": [
       "['Adam', 'Ann', 'Ed']"
      ]
     },
     "execution_count": 61,
     "metadata": {},
     "output_type": "execute_result"
    }
   ],
   "source": [
    "customers[1]"
   ]
  },
  {
   "cell_type": "code",
   "execution_count": 63,
   "id": "6359861e-4c18-4363-b402-a230ff1e299e",
   "metadata": {
    "tags": []
   },
   "outputs": [
    {
     "data": {
      "text/plain": [
       "'Adam'"
      ]
     },
     "execution_count": 63,
     "metadata": {},
     "output_type": "execute_result"
    }
   ],
   "source": [
    "customers[1][0]"
   ]
  },
  {
   "cell_type": "code",
   "execution_count": 64,
   "id": "cebcffa5-cb3e-4bce-bdb6-c99b9bda1d17",
   "metadata": {
    "tags": []
   },
   "outputs": [
    {
     "data": {
      "text/plain": [
       "[25, 23, 28]"
      ]
     },
     "execution_count": 64,
     "metadata": {},
     "output_type": "execute_result"
    }
   ],
   "source": [
    "customers[2]"
   ]
  },
  {
   "cell_type": "code",
   "execution_count": 65,
   "id": "5268d859-8083-4ed9-829c-2e77858d7663",
   "metadata": {
    "tags": []
   },
   "outputs": [
    {
     "data": {
      "text/plain": [
       "28"
      ]
     },
     "execution_count": 65,
     "metadata": {},
     "output_type": "execute_result"
    }
   ],
   "source": [
    "customers[2][2]"
   ]
  },
  {
   "cell_type": "code",
   "execution_count": 67,
   "id": "db530aaa-455f-409c-8baf-64dd9e0a09d3",
   "metadata": {
    "tags": []
   },
   "outputs": [],
   "source": [
    "#append outer list\n",
    "city = [\"Jakarta\", \"Bandung\", \"Tangerang\"]\n",
    "customers.append(city)"
   ]
  },
  {
   "cell_type": "code",
   "execution_count": 68,
   "id": "ef8d2fa2-7c1b-4e29-8de5-ae0aeb44f110",
   "metadata": {
    "tags": []
   },
   "outputs": [
    {
     "data": {
      "text/plain": [
       "[[123, 124, 125],\n",
       " ['Adam', 'Ann', 'Ed'],\n",
       " [25, 23, 28],\n",
       " ['Jakarta', 'Bandung', 'Tangerang']]"
      ]
     },
     "execution_count": 68,
     "metadata": {},
     "output_type": "execute_result"
    }
   ],
   "source": [
    "customers"
   ]
  },
  {
   "cell_type": "code",
   "execution_count": null,
   "id": "7edca93a-686a-45b7-a09f-fcfcdde973d7",
   "metadata": {},
   "outputs": [],
   "source": [
    "#append inner list"
   ]
  },
  {
   "cell_type": "code",
   "execution_count": 69,
   "id": "c46b31ed-a472-4cb3-affd-73f8e0b919b4",
   "metadata": {
    "tags": []
   },
   "outputs": [],
   "source": [
    "customers[0].append(126)"
   ]
  },
  {
   "cell_type": "code",
   "execution_count": 70,
   "id": "e65b6e63-01ba-4f2e-a3e6-c7c2ba539118",
   "metadata": {
    "tags": []
   },
   "outputs": [],
   "source": [
    "customers[1].append(\"Bob\")"
   ]
  },
  {
   "cell_type": "code",
   "execution_count": 71,
   "id": "6881ac97-8739-4d78-8628-31d3b5c3488f",
   "metadata": {
    "tags": []
   },
   "outputs": [],
   "source": [
    "customers[2].append(25)"
   ]
  },
  {
   "cell_type": "code",
   "execution_count": 72,
   "id": "cb5606f5-bb36-47c5-b768-3d8c854befa5",
   "metadata": {
    "tags": []
   },
   "outputs": [],
   "source": [
    "customers[3].append(\"Bogor\")"
   ]
  },
  {
   "cell_type": "code",
   "execution_count": 73,
   "id": "23e94143-d3b1-4e9e-80e0-0af626ec2186",
   "metadata": {
    "tags": []
   },
   "outputs": [
    {
     "data": {
      "text/plain": [
       "[[123, 124, 125, 126],\n",
       " ['Adam', 'Ann', 'Ed', 'Bob'],\n",
       " [25, 23, 28, 25],\n",
       " ['Jakarta', 'Bandung', 'Tangerang', 'Bogor']]"
      ]
     },
     "execution_count": 73,
     "metadata": {},
     "output_type": "execute_result"
    }
   ],
   "source": [
    "customers"
   ]
  },
  {
   "cell_type": "markdown",
   "id": "122eaea6-1bd0-4610-a668-3ed102440c7d",
   "metadata": {},
   "source": [
    "### **Dictionary**"
   ]
  },
  {
   "cell_type": "markdown",
   "id": "c082ff3f-e5cb-43cc-b45d-4a9dc143f456",
   "metadata": {
    "tags": []
   },
   "source": [
    "#### **Get Values**"
   ]
  },
  {
   "cell_type": "code",
   "execution_count": 4,
   "id": "3a0910ed-45dd-4328-8770-d31025091e9c",
   "metadata": {
    "tags": []
   },
   "outputs": [],
   "source": [
    "customers_info = {\n",
    "    \"name\": [\"Adam\", \"Ann\", \"Ed\", \"Ben\", \"Beth\"],\n",
    "    \"age\": [25, 23, 28, 29, 30],\n",
    "    \"purchase_count\": [2, 3, 5, 0, 1]\n",
    "}"
   ]
  },
  {
   "cell_type": "code",
   "execution_count": 5,
   "id": "674a881f-7773-408c-850d-3776343b26ce",
   "metadata": {
    "tags": []
   },
   "outputs": [
    {
     "data": {
      "text/plain": [
       "{'name': ['Adam', 'Ann', 'Ed', 'Ben', 'Beth'],\n",
       " 'age': [25, 23, 28, 29, 30],\n",
       " 'purchase_count': [2, 3, 5, 0, 1]}"
      ]
     },
     "execution_count": 5,
     "metadata": {},
     "output_type": "execute_result"
    }
   ],
   "source": [
    "customers_info"
   ]
  },
  {
   "cell_type": "code",
   "execution_count": 9,
   "id": "0d768bbc-757c-4e05-8b55-1f2d31742777",
   "metadata": {
    "tags": []
   },
   "outputs": [
    {
     "data": {
      "text/plain": [
       "2"
      ]
     },
     "execution_count": 9,
     "metadata": {},
     "output_type": "execute_result"
    }
   ],
   "source": [
    "customers_info['purchase_count'][0]"
   ]
  },
  {
   "cell_type": "code",
   "execution_count": 10,
   "id": "6ab2140d-52ca-4730-94fd-875d685421ed",
   "metadata": {
    "tags": []
   },
   "outputs": [
    {
     "data": {
      "text/plain": [
       "'Beth'"
      ]
     },
     "execution_count": 10,
     "metadata": {},
     "output_type": "execute_result"
    }
   ],
   "source": [
    "customers_info['name'][-1]"
   ]
  },
  {
   "cell_type": "markdown",
   "id": "b3b689da-1f55-4cb0-a489-b95c53e6e5d8",
   "metadata": {},
   "source": [
    " #### **Operations**"
   ]
  },
  {
   "cell_type": "code",
   "execution_count": 11,
   "id": "12f043c3-e95a-4cef-af3b-861a82f805f2",
   "metadata": {
    "tags": []
   },
   "outputs": [
    {
     "data": {
      "text/plain": [
       "{'name': ['Adam', 'Ann', 'Ed', 'Ben', 'Beth'],\n",
       " 'age': [25, 23, 28, 29, 30],\n",
       " 'purchase_count': [2, 3, 5, 0, 1]}"
      ]
     },
     "execution_count": 11,
     "metadata": {},
     "output_type": "execute_result"
    }
   ],
   "source": [
    "customers_info"
   ]
  },
  {
   "cell_type": "code",
   "execution_count": 12,
   "id": "ea3b16db-4873-4033-9997-7797478d6547",
   "metadata": {
    "tags": []
   },
   "outputs": [
    {
     "data": {
      "text/plain": [
       "dict_keys(['name', 'age', 'purchase_count'])"
      ]
     },
     "execution_count": 12,
     "metadata": {},
     "output_type": "execute_result"
    }
   ],
   "source": [
    "# keys\n",
    "\n",
    "dict.keys(customers_info)"
   ]
  },
  {
   "cell_type": "code",
   "execution_count": 13,
   "id": "889038bf-7f4b-4659-b12a-d11dfedf57b0",
   "metadata": {
    "tags": []
   },
   "outputs": [],
   "source": [
    "# update\n",
    "\n",
    "customers_info.update({\n",
    "    \"city\": [\"Bandung\", \"Tangerang\", \"Jakarta\", \"Bandung\", \"Bogor\"]})"
   ]
  },
  {
   "cell_type": "code",
   "execution_count": 14,
   "id": "9d1d7e81-9bad-4457-96e4-e93541978e52",
   "metadata": {
    "tags": []
   },
   "outputs": [
    {
     "data": {
      "text/plain": [
       "{'name': ['Adam', 'Ann', 'Ed', 'Ben', 'Beth'],\n",
       " 'age': [25, 23, 28, 29, 30],\n",
       " 'purchase_count': [2, 3, 5, 0, 1],\n",
       " 'city': ['Bandung', 'Tangerang', 'Jakarta', 'Bandung', 'Bogor']}"
      ]
     },
     "execution_count": 14,
     "metadata": {},
     "output_type": "execute_result"
    }
   ],
   "source": [
    "customers_info"
   ]
  },
  {
   "cell_type": "code",
   "execution_count": 16,
   "id": "cd9d7d93-1b26-4d54-be64-7457725389e1",
   "metadata": {
    "tags": []
   },
   "outputs": [
    {
     "data": {
      "text/plain": [
       "'Beth'"
      ]
     },
     "execution_count": 16,
     "metadata": {},
     "output_type": "execute_result"
    }
   ],
   "source": [
    "# pop\n",
    "customers_info[\"name\"].pop()"
   ]
  },
  {
   "cell_type": "code",
   "execution_count": 17,
   "id": "b0fe8e86-c568-4d98-a26e-b1b7e7dee7dd",
   "metadata": {
    "tags": []
   },
   "outputs": [
    {
     "data": {
      "text/plain": [
       "'Bogor'"
      ]
     },
     "execution_count": 17,
     "metadata": {},
     "output_type": "execute_result"
    }
   ],
   "source": [
    "customers_info[\"age\"].pop()\n",
    "customers_info[\"purchase_count\"].pop()\n",
    "customers_info[\"city\"].pop()"
   ]
  },
  {
   "cell_type": "code",
   "execution_count": 18,
   "id": "94b2ad9e-bb16-44ba-9e42-b3ad61c416d1",
   "metadata": {
    "tags": []
   },
   "outputs": [
    {
     "data": {
      "text/plain": [
       "{'name': ['Adam', 'Ann', 'Ed', 'Ben'],\n",
       " 'age': [25, 23, 28, 29],\n",
       " 'purchase_count': [2, 3, 5, 0],\n",
       " 'city': ['Bandung', 'Tangerang', 'Jakarta', 'Bandung']}"
      ]
     },
     "execution_count": 18,
     "metadata": {},
     "output_type": "execute_result"
    }
   ],
   "source": [
    "customers_info"
   ]
  },
  {
   "cell_type": "code",
   "execution_count": 19,
   "id": "40b8ef18-2d5b-412f-b168-357a28711063",
   "metadata": {
    "tags": []
   },
   "outputs": [
    {
     "data": {
      "text/plain": [
       "{'name': ['Adam', 'Ann', 'Ed', 'Ben'],\n",
       " 'age': [25, 23, 28, 29],\n",
       " 'purchase_count': [2, 3, 5, 0],\n",
       " 'city': ['Bandung', 'Tangerang', 'Jakarta', 'Bandung']}"
      ]
     },
     "execution_count": 19,
     "metadata": {},
     "output_type": "execute_result"
    }
   ],
   "source": [
    "# copy\n",
    "\n",
    "customers_info2 = customers_info.copy()\n",
    "customers_info"
   ]
  },
  {
   "cell_type": "code",
   "execution_count": 20,
   "id": "61709b82-1521-4d60-b4e1-5d8ae5ca06f1",
   "metadata": {
    "tags": []
   },
   "outputs": [],
   "source": [
    "# clear\n",
    "\n",
    "customers_info.clear()"
   ]
  },
  {
   "cell_type": "code",
   "execution_count": 21,
   "id": "cf6c69a6-ce6c-4b2f-8422-0a52dbc1b81b",
   "metadata": {
    "tags": []
   },
   "outputs": [
    {
     "data": {
      "text/plain": [
       "{}"
      ]
     },
     "execution_count": 21,
     "metadata": {},
     "output_type": "execute_result"
    }
   ],
   "source": [
    "customers_info"
   ]
  },
  {
   "cell_type": "markdown",
   "id": "a6818997-f426-4f44-bdf1-deec7b879b4a",
   "metadata": {},
   "source": [
    "### **IF ELSE**"
   ]
  },
  {
   "cell_type": "code",
   "execution_count": 22,
   "id": "faa5dacc-ff65-45e2-92a5-e085cfff4c62",
   "metadata": {
    "tags": []
   },
   "outputs": [],
   "source": [
    "x = 1\n",
    "y = 1"
   ]
  },
  {
   "cell_type": "code",
   "execution_count": 46,
   "id": "c249b6cb-aa5d-4e8c-89a0-84852fbcc6a1",
   "metadata": {
    "tags": []
   },
   "outputs": [],
   "source": [
    "x,y = 1,5"
   ]
  },
  {
   "cell_type": "code",
   "execution_count": 27,
   "id": "71c9d445-eeac-49a4-9ee2-daecce752293",
   "metadata": {
    "tags": []
   },
   "outputs": [
    {
     "data": {
      "text/plain": [
       "1"
      ]
     },
     "execution_count": 27,
     "metadata": {},
     "output_type": "execute_result"
    }
   ],
   "source": [
    "x"
   ]
  },
  {
   "cell_type": "code",
   "execution_count": 28,
   "id": "91c8a5a3-6a04-4314-9bf0-d3eaa34ba0ab",
   "metadata": {
    "tags": []
   },
   "outputs": [
    {
     "data": {
      "text/plain": [
       "5"
      ]
     },
     "execution_count": 28,
     "metadata": {},
     "output_type": "execute_result"
    }
   ],
   "source": [
    "y"
   ]
  },
  {
   "cell_type": "code",
   "execution_count": 29,
   "id": "f6a81264-f6ae-4312-9097-83b5be009e18",
   "metadata": {
    "tags": []
   },
   "outputs": [
    {
     "name": "stdout",
     "output_type": "stream",
     "text": [
      "x is not equal to y\n"
     ]
    }
   ],
   "source": [
    "if x==y:\n",
    "    print(\"x is equal to y\")\n",
    "else:\n",
    "    print(\"x is not equal to y\")"
   ]
  },
  {
   "cell_type": "code",
   "execution_count": 42,
   "id": "967dc3db-0881-43b6-bb48-6b59d64b81a3",
   "metadata": {
    "tags": []
   },
   "outputs": [
    {
     "name": "stdout",
     "output_type": "stream",
     "text": [
      "x is smaller than y\n"
     ]
    }
   ],
   "source": [
    "if x==y:\n",
    "    print(\"x is equal to y\")\n",
    "elif x>y:\n",
    "    print(\"x is larger than y\")\n",
    "else:\n",
    "    print(\"x is smaller than y\")"
   ]
  },
  {
   "cell_type": "code",
   "execution_count": 47,
   "id": "7b59c68f-2d4d-4fcd-a094-a5abc8f8efe1",
   "metadata": {
    "tags": []
   },
   "outputs": [
    {
     "name": "stdout",
     "output_type": "stream",
     "text": [
      "4\n"
     ]
    }
   ],
   "source": [
    "if x==y:\n",
    "    z = 0\n",
    "elif x>y:\n",
    "    z = x-y\n",
    "else:\n",
    "    z = y-x\n",
    "    \n",
    "print(z)"
   ]
  },
  {
   "cell_type": "code",
   "execution_count": 48,
   "id": "0051ec74-8470-46b8-a61a-62b16cdff668",
   "metadata": {
    "tags": []
   },
   "outputs": [],
   "source": [
    "x,y = 20,100"
   ]
  },
  {
   "cell_type": "code",
   "execution_count": 49,
   "id": "143cc2e9-75c2-4fc8-b7fd-cece0bdd6d13",
   "metadata": {
    "tags": []
   },
   "outputs": [
    {
     "name": "stdout",
     "output_type": "stream",
     "text": [
      "80\n"
     ]
    }
   ],
   "source": [
    "if x==y:\n",
    "    z = 0\n",
    "elif x>y:\n",
    "    z = x-y\n",
    "else:\n",
    "    z = y-x\n",
    "    \n",
    "print(z)"
   ]
  },
  {
   "cell_type": "code",
   "execution_count": 53,
   "id": "5c7f6f11-5b94-40ca-aab1-63f082401315",
   "metadata": {
    "tags": []
   },
   "outputs": [],
   "source": [
    "x,y =14,15"
   ]
  },
  {
   "cell_type": "code",
   "execution_count": 54,
   "id": "c7014ffd-62c3-455b-96bf-d1ff59ce4168",
   "metadata": {
    "tags": []
   },
   "outputs": [
    {
     "name": "stdout",
     "output_type": "stream",
     "text": [
      "No value is below ten\n"
     ]
    }
   ],
   "source": [
    "if x<10:\n",
    "    if y<10:\n",
    "        print(\"Both are below ten\")\n",
    "    else:\n",
    "        print(\"Only x is below ten\")\n",
    "else:\n",
    "    if y<10:\n",
    "        print(\"Only y is below ten\")\n",
    "    else:\n",
    "        print(\"No value is below ten\")"
   ]
  },
  {
   "cell_type": "markdown",
   "id": "77865d34-757e-43a9-8e2a-c9cb9b3133d2",
   "metadata": {},
   "source": [
    "### **Iterations(For and While)**"
   ]
  },
  {
   "cell_type": "markdown",
   "id": "f9c5a0ae-49dd-484b-93f6-78903c5b9207",
   "metadata": {},
   "source": [
    "#### **For**"
   ]
  },
  {
   "cell_type": "code",
   "execution_count": 55,
   "id": "b9969206-1ce4-499f-aeb7-1ae9d7bb593c",
   "metadata": {
    "tags": []
   },
   "outputs": [
    {
     "name": "stdout",
     "output_type": "stream",
     "text": [
      "0\n",
      "1\n",
      "2\n",
      "3\n",
      "4\n",
      "5\n",
      "6\n",
      "7\n",
      "8\n",
      "9\n"
     ]
    }
   ],
   "source": [
    "for i in range(0,10,1):\n",
    "    print(i)"
   ]
  },
  {
   "cell_type": "code",
   "execution_count": 56,
   "id": "6eb1279b-ce0e-4390-84b8-a48d22c2147d",
   "metadata": {
    "tags": []
   },
   "outputs": [
    {
     "name": "stdout",
     "output_type": "stream",
     "text": [
      "0\n",
      "2\n",
      "4\n",
      "6\n",
      "8\n"
     ]
    }
   ],
   "source": [
    "for i in range(0,10,2):\n",
    "    print(i)"
   ]
  },
  {
   "cell_type": "code",
   "execution_count": 57,
   "id": "696c4533-15a0-4d4f-8e52-85f859415b48",
   "metadata": {
    "tags": []
   },
   "outputs": [
    {
     "name": "stdout",
     "output_type": "stream",
     "text": [
      "0\n",
      "1\n",
      "2\n",
      "3\n",
      "4\n",
      "5\n",
      "6\n",
      "7\n",
      "8\n",
      "9\n"
     ]
    }
   ],
   "source": [
    "for i in range(0,10):\n",
    "    print(i)"
   ]
  },
  {
   "cell_type": "code",
   "execution_count": 58,
   "id": "28a8b527-ee8c-4c14-bac9-73a52b68e94c",
   "metadata": {
    "tags": []
   },
   "outputs": [
    {
     "name": "stdout",
     "output_type": "stream",
     "text": [
      "0\n",
      "1\n",
      "2\n",
      "3\n",
      "4\n",
      "5\n",
      "6\n",
      "7\n",
      "8\n",
      "9\n"
     ]
    }
   ],
   "source": [
    "for i in range(10):\n",
    "    print(i)"
   ]
  },
  {
   "cell_type": "code",
   "execution_count": 60,
   "id": "ad0b616c-31f7-496a-b154-eda1964e9630",
   "metadata": {
    "tags": []
   },
   "outputs": [
    {
     "name": "stdout",
     "output_type": "stream",
     "text": [
      "1\n",
      "2\n",
      "3\n",
      "4\n",
      "5\n",
      "6\n",
      "7\n",
      "8\n",
      "9\n",
      "10\n"
     ]
    }
   ],
   "source": [
    "x = 0\n",
    "for i in range(10):\n",
    "    x = x + 1\n",
    "    print(x)"
   ]
  },
  {
   "cell_type": "code",
   "execution_count": 61,
   "id": "71120b6b-5619-4e88-8116-2391fda71725",
   "metadata": {
    "tags": []
   },
   "outputs": [
    {
     "name": "stdout",
     "output_type": "stream",
     "text": [
      "1\n",
      "2\n",
      "3\n",
      "4\n",
      "5\n",
      "6\n",
      "7\n",
      "8\n",
      "9\n",
      "10\n"
     ]
    }
   ],
   "source": [
    "x = 0\n",
    "for i in range(10):\n",
    "    x += 1\n",
    "    print(x)"
   ]
  },
  {
   "cell_type": "code",
   "execution_count": 62,
   "id": "8bcf02f1-f7a4-477a-9f90-2b015c8e1200",
   "metadata": {
    "tags": []
   },
   "outputs": [
    {
     "name": "stdout",
     "output_type": "stream",
     "text": [
      "9\n",
      "8\n",
      "7\n",
      "6\n",
      "5\n",
      "4\n",
      "3\n",
      "2\n",
      "1\n",
      "0\n"
     ]
    }
   ],
   "source": [
    "x = 10\n",
    "for i in range(10):\n",
    "    x = x-1\n",
    "    print(x)"
   ]
  },
  {
   "cell_type": "code",
   "execution_count": 63,
   "id": "e242ffa3-6f9c-49e5-b9f4-68bd8c7ba706",
   "metadata": {
    "tags": []
   },
   "outputs": [
    {
     "name": "stdout",
     "output_type": "stream",
     "text": [
      "1\n",
      "2\n",
      "3\n",
      "4\n",
      "5\n",
      "7\n",
      "9\n",
      "11\n",
      "13\n",
      "15\n"
     ]
    }
   ],
   "source": [
    "x = 0\n",
    "for i in range(10):\n",
    "    if x < 5:\n",
    "        x = x + 1\n",
    "    else:\n",
    "        x = x + 2\n",
    "    print(x)"
   ]
  },
  {
   "cell_type": "markdown",
   "id": "6647b93c-8c74-4232-9d67-a7bd7eaaeddd",
   "metadata": {
    "tags": []
   },
   "source": [
    "#### **While**"
   ]
  },
  {
   "cell_type": "code",
   "execution_count": 65,
   "id": "8112c282-54d5-4baa-9e3d-3c786d405aa8",
   "metadata": {
    "tags": []
   },
   "outputs": [
    {
     "name": "stdout",
     "output_type": "stream",
     "text": [
      "1\n",
      "2\n",
      "3\n",
      "4\n",
      "5\n",
      "6\n",
      "7\n",
      "8\n",
      "9\n",
      "10\n"
     ]
    }
   ],
   "source": [
    "x = 0\n",
    "while x < 10:\n",
    "    x = x + 1\n",
    "    print(x)"
   ]
  },
  {
   "cell_type": "code",
   "execution_count": 67,
   "id": "44e18e82-9edb-472b-8eb4-4831b9096e0f",
   "metadata": {
    "tags": []
   },
   "outputs": [
    {
     "name": "stdout",
     "output_type": "stream",
     "text": [
      "1\n",
      "2\n",
      "3\n",
      "4\n",
      "5\n",
      "6\n",
      "7\n",
      "8\n",
      "9\n",
      "10\n",
      "20\n"
     ]
    }
   ],
   "source": [
    "x = 0\n",
    "while x < 10:\n",
    "    x = x + 1\n",
    "    print(x)\n",
    "else:\n",
    "    x = x + 10\n",
    "    print(x)"
   ]
  },
  {
   "cell_type": "code",
   "execution_count": 1,
   "id": "9d9e99f6-b716-483d-8d5d-56d452f30cec",
   "metadata": {},
   "outputs": [
    {
     "name": "stdout",
     "output_type": "stream",
     "text": [
      "1\n",
      "2\n",
      "3\n",
      "4\n",
      "5\n",
      "7\n",
      "9\n",
      "11\n",
      "111\n"
     ]
    }
   ],
   "source": [
    "x = 0\n",
    "while x < 10:\n",
    "    if x < 5:\n",
    "        x = x + 1\n",
    "    else:\n",
    "        x = x + 2\n",
    "    print(x)\n",
    "else:\n",
    "    x = x + 100\n",
    "    print(x)"
   ]
  },
  {
   "cell_type": "markdown",
   "id": "651c5fb5-3050-459a-b9ab-a21cba08b6d6",
   "metadata": {},
   "source": [
    "#### **Break**"
   ]
  },
  {
   "cell_type": "code",
   "execution_count": 2,
   "id": "5cb8478d-d09c-456f-845a-aef8f73cb0e6",
   "metadata": {
    "tags": []
   },
   "outputs": [
    {
     "name": "stdout",
     "output_type": "stream",
     "text": [
      "11\n",
      "12\n",
      "13\n",
      "14\n",
      "15\n",
      "16\n",
      "17\n",
      "18\n",
      "19\n",
      "20\n",
      "21\n",
      "22\n",
      "23\n",
      "24\n",
      "25\n",
      "26\n",
      "27\n",
      "28\n",
      "29\n",
      "30\n"
     ]
    }
   ],
   "source": [
    "x = 10\n",
    "for i in range(100):\n",
    "    x += 1\n",
    "    if x > 30:\n",
    "        break\n",
    "    print(x)"
   ]
  },
  {
   "cell_type": "code",
   "execution_count": 5,
   "id": "afbef62f-11bc-42d5-bb46-761bcb270e03",
   "metadata": {
    "tags": []
   },
   "outputs": [
    {
     "name": "stdout",
     "output_type": "stream",
     "text": [
      "12\n",
      "14\n",
      "16\n",
      "18\n",
      "20\n",
      "22\n",
      "24\n",
      "26\n",
      "28\n"
     ]
    }
   ],
   "source": [
    "x = 10\n",
    "\n",
    "while x < 100:\n",
    "    x += 2\n",
    "    if x>= 30:\n",
    "        break\n",
    "    print(x)"
   ]
  },
  {
   "cell_type": "markdown",
   "id": "0e07463b-b4d3-4bed-a276-04f50973af00",
   "metadata": {},
   "source": [
    "#### **Continue**"
   ]
  },
  {
   "cell_type": "code",
   "execution_count": 6,
   "id": "01cf581e-780c-4781-a034-22ef5c88eb89",
   "metadata": {
    "tags": []
   },
   "outputs": [
    {
     "name": "stdout",
     "output_type": "stream",
     "text": [
      "2\n",
      "4\n",
      "6\n",
      "8\n",
      "10\n"
     ]
    }
   ],
   "source": [
    "x = 0\n",
    "for i in range(10):\n",
    "    x += 1\n",
    "    if x % 2 != 0:\n",
    "        continue\n",
    "    print(x)"
   ]
  },
  {
   "cell_type": "code",
   "execution_count": 7,
   "id": "53f07c30-b314-48bc-90b3-510f37fcfdc2",
   "metadata": {
    "tags": []
   },
   "outputs": [
    {
     "name": "stdout",
     "output_type": "stream",
     "text": [
      "2\n",
      "4\n",
      "6\n",
      "8\n",
      "10\n"
     ]
    }
   ],
   "source": [
    "x = 0\n",
    "while x < 10:\n",
    "    x += 1\n",
    "    if x % 2 != 0:\n",
    "        continue\n",
    "    print(x)"
   ]
  },
  {
   "cell_type": "markdown",
   "id": "078d8367-6add-46d8-93e8-413f785c3b78",
   "metadata": {},
   "source": [
    "### **User Defined Functions**"
   ]
  },
  {
   "cell_type": "code",
   "execution_count": 8,
   "id": "817c21a3-9dfc-415d-b281-31b3f5d70a7d",
   "metadata": {
    "tags": []
   },
   "outputs": [],
   "source": [
    "def printing_variable(a):\n",
    "    print(\"variable a: \", a)"
   ]
  },
  {
   "cell_type": "code",
   "execution_count": 9,
   "id": "338ff836-11b7-4aa4-a398-81aaa5662c20",
   "metadata": {
    "tags": []
   },
   "outputs": [
    {
     "name": "stdout",
     "output_type": "stream",
     "text": [
      "variable a:  1\n"
     ]
    }
   ],
   "source": [
    "printing_variable(1)"
   ]
  },
  {
   "cell_type": "code",
   "execution_count": 10,
   "id": "b7966d42-a596-4fed-8660-0c5c82d2b92b",
   "metadata": {
    "tags": []
   },
   "outputs": [
    {
     "name": "stdout",
     "output_type": "stream",
     "text": [
      "variable a:  5\n"
     ]
    }
   ],
   "source": [
    "printing_variable(5)"
   ]
  },
  {
   "cell_type": "code",
   "execution_count": 11,
   "id": "348de282-87a7-46bd-8b1a-224881b9b85b",
   "metadata": {
    "tags": []
   },
   "outputs": [
    {
     "name": "stdout",
     "output_type": "stream",
     "text": [
      "variable a:  200\n"
     ]
    }
   ],
   "source": [
    "printing_variable(200)"
   ]
  },
  {
   "cell_type": "code",
   "execution_count": 13,
   "id": "fdde1e48-e6b0-466a-834f-9082731260ee",
   "metadata": {
    "tags": []
   },
   "outputs": [
    {
     "name": "stdout",
     "output_type": "stream",
     "text": [
      "variable a:  Fast Campus\n"
     ]
    }
   ],
   "source": [
    "printing_variable(\"Fast Campus\")"
   ]
  },
  {
   "cell_type": "code",
   "execution_count": 14,
   "id": "c901eab4-b6bd-4487-8961-398f02df9a81",
   "metadata": {
    "tags": []
   },
   "outputs": [
    {
     "name": "stdout",
     "output_type": "stream",
     "text": [
      "variable a:  3.14\n"
     ]
    }
   ],
   "source": [
    "printing_variable(3.14)"
   ]
  },
  {
   "cell_type": "code",
   "execution_count": 21,
   "id": "92f837bf-4a8e-4bb5-8482-b2271b1611e4",
   "metadata": {
    "tags": []
   },
   "outputs": [],
   "source": [
    "def sum(a,b):\n",
    "    result = a + b\n",
    "    return result"
   ]
  },
  {
   "cell_type": "code",
   "execution_count": 22,
   "id": "7aa672f1-11d2-4068-96e1-7b757f56c229",
   "metadata": {
    "tags": []
   },
   "outputs": [
    {
     "data": {
      "text/plain": [
       "15"
      ]
     },
     "execution_count": 22,
     "metadata": {},
     "output_type": "execute_result"
    }
   ],
   "source": [
    "sum(5,10)"
   ]
  },
  {
   "cell_type": "code",
   "execution_count": 23,
   "id": "0802d08e-b830-4f00-a983-b55ab68b8c33",
   "metadata": {
    "tags": []
   },
   "outputs": [
    {
     "data": {
      "text/plain": [
       "150"
      ]
     },
     "execution_count": 23,
     "metadata": {},
     "output_type": "execute_result"
    }
   ],
   "source": [
    "sum(100,50)"
   ]
  },
  {
   "cell_type": "code",
   "execution_count": 24,
   "id": "fab8d8ff-58ad-443a-9c89-56ef3927e65c",
   "metadata": {
    "tags": []
   },
   "outputs": [],
   "source": [
    "sum_result = sum(5,10)"
   ]
  },
  {
   "cell_type": "code",
   "execution_count": 25,
   "id": "810e4695-26e1-4d74-9cd7-d57cb88c2a98",
   "metadata": {
    "tags": []
   },
   "outputs": [
    {
     "name": "stdout",
     "output_type": "stream",
     "text": [
      "15\n"
     ]
    }
   ],
   "source": [
    "print(sum_result)"
   ]
  },
  {
   "cell_type": "code",
   "execution_count": 26,
   "id": "1d5d03b4-0e94-4e0c-955d-b7a71f943743",
   "metadata": {
    "tags": []
   },
   "outputs": [],
   "source": [
    "def multi_divide(a,b):\n",
    "    result1 = a*b\n",
    "    result2 = a/b\n",
    "    return result1, result2"
   ]
  },
  {
   "cell_type": "code",
   "execution_count": 27,
   "id": "50d4f833-5b34-4d2a-bfb2-d5b983bb7bc4",
   "metadata": {
    "tags": []
   },
   "outputs": [
    {
     "data": {
      "text/plain": [
       "(12, 3.0)"
      ]
     },
     "execution_count": 27,
     "metadata": {},
     "output_type": "execute_result"
    }
   ],
   "source": [
    "multi_divide(6,2)"
   ]
  },
  {
   "cell_type": "code",
   "execution_count": 28,
   "id": "c18fe1f8-c5f0-44ec-9025-42bf0ff07ddb",
   "metadata": {
    "tags": []
   },
   "outputs": [],
   "source": [
    "multi_result, divide_result = multi_divide(6,2)"
   ]
  },
  {
   "cell_type": "code",
   "execution_count": 30,
   "id": "64f1c8d5-569c-4203-b568-c750541636f0",
   "metadata": {
    "tags": []
   },
   "outputs": [
    {
     "name": "stdout",
     "output_type": "stream",
     "text": [
      "12\n"
     ]
    }
   ],
   "source": [
    "print(multi_result)"
   ]
  },
  {
   "cell_type": "code",
   "execution_count": 31,
   "id": "be6feaf1-8d5d-4d42-8c7d-65977f00e26a",
   "metadata": {
    "tags": []
   },
   "outputs": [
    {
     "name": "stdout",
     "output_type": "stream",
     "text": [
      "3.0\n"
     ]
    }
   ],
   "source": [
    "print(divide_result)"
   ]
  },
  {
   "cell_type": "markdown",
   "id": "25dfcf2a-cfe3-4325-bb83-621976efb825",
   "metadata": {},
   "source": [
    "#### **UDF with Default Values**"
   ]
  },
  {
   "cell_type": "code",
   "execution_count": 33,
   "id": "9f3bcade-694d-440e-81f7-37559cc0497f",
   "metadata": {
    "tags": []
   },
   "outputs": [],
   "source": [
    "def sum(a,b):\n",
    "    result = a + b\n",
    "    return result"
   ]
  },
  {
   "cell_type": "code",
   "execution_count": 34,
   "id": "6002451a-9d0d-4fe1-bdff-37201688dbad",
   "metadata": {
    "tags": []
   },
   "outputs": [
    {
     "data": {
      "text/plain": [
       "15"
      ]
     },
     "execution_count": 34,
     "metadata": {},
     "output_type": "execute_result"
    }
   ],
   "source": [
    "sum(5,10)"
   ]
  },
  {
   "cell_type": "code",
   "execution_count": 35,
   "id": "218d4c2d-8cd4-42ce-9893-593b0f11a74e",
   "metadata": {
    "tags": []
   },
   "outputs": [
    {
     "data": {
      "text/plain": [
       "20"
      ]
     },
     "execution_count": 35,
     "metadata": {},
     "output_type": "execute_result"
    }
   ],
   "source": [
    "sum(10,10)"
   ]
  },
  {
   "cell_type": "code",
   "execution_count": 36,
   "id": "7dc0d77b-dfc0-412c-868a-2e7574384c5b",
   "metadata": {
    "tags": []
   },
   "outputs": [
    {
     "ename": "TypeError",
     "evalue": "sum() missing 1 required positional argument: 'b'",
     "output_type": "error",
     "traceback": [
      "\u001b[1;31m---------------------------------------------------------------------------\u001b[0m",
      "\u001b[1;31mTypeError\u001b[0m                                 Traceback (most recent call last)",
      "Cell \u001b[1;32mIn[36], line 1\u001b[0m\n\u001b[1;32m----> 1\u001b[0m \u001b[38;5;28msum\u001b[39m(\u001b[38;5;241m10\u001b[39m)\n",
      "\u001b[1;31mTypeError\u001b[0m: sum() missing 1 required positional argument: 'b'"
     ]
    }
   ],
   "source": [
    "sum(10)"
   ]
  },
  {
   "cell_type": "code",
   "execution_count": 38,
   "id": "67250c2c-4d1b-47d9-b36a-37ce9850f86d",
   "metadata": {
    "tags": []
   },
   "outputs": [],
   "source": [
    "def sum(a = 0,b = 0):\n",
    "    result = a + b\n",
    "    return result"
   ]
  },
  {
   "cell_type": "code",
   "execution_count": 39,
   "id": "33c2557a-46c5-44bc-aaa3-51eab9247ef4",
   "metadata": {
    "tags": []
   },
   "outputs": [
    {
     "data": {
      "text/plain": [
       "15"
      ]
     },
     "execution_count": 39,
     "metadata": {},
     "output_type": "execute_result"
    }
   ],
   "source": [
    "sum(10,5)"
   ]
  },
  {
   "cell_type": "code",
   "execution_count": 40,
   "id": "6a41687d-a079-4fcb-8551-7613785ce0a2",
   "metadata": {
    "tags": []
   },
   "outputs": [
    {
     "data": {
      "text/plain": [
       "10"
      ]
     },
     "execution_count": 40,
     "metadata": {},
     "output_type": "execute_result"
    }
   ],
   "source": [
    "sum(10)"
   ]
  },
  {
   "cell_type": "code",
   "execution_count": 41,
   "id": "64ad308f-a2f1-46b9-9a74-e9d756f1e96f",
   "metadata": {
    "tags": []
   },
   "outputs": [
    {
     "data": {
      "text/plain": [
       "0"
      ]
     },
     "execution_count": 41,
     "metadata": {},
     "output_type": "execute_result"
    }
   ],
   "source": [
    "sum()"
   ]
  },
  {
   "cell_type": "code",
   "execution_count": 42,
   "id": "b1c66f68-c10b-4519-a417-cd5178e86abb",
   "metadata": {
    "tags": []
   },
   "outputs": [
    {
     "data": {
      "text/plain": [
       "100"
      ]
     },
     "execution_count": 42,
     "metadata": {},
     "output_type": "execute_result"
    }
   ],
   "source": [
    "sum(100)"
   ]
  },
  {
   "cell_type": "code",
   "execution_count": 43,
   "id": "45543fce-7f89-4a17-bde5-49d3a4b81ae7",
   "metadata": {
    "tags": []
   },
   "outputs": [
    {
     "data": {
      "text/plain": [
       "15"
      ]
     },
     "execution_count": 43,
     "metadata": {},
     "output_type": "execute_result"
    }
   ],
   "source": [
    "sum(15)"
   ]
  },
  {
   "cell_type": "code",
   "execution_count": 51,
   "id": "d33d2ce9-482a-413e-a3c7-abceb62c93e4",
   "metadata": {
    "tags": []
   },
   "outputs": [],
   "source": [
    "def multi_divide(a = 1,b = 1):\n",
    "    result1 = a*b\n",
    "    result2 = a/b\n",
    "    return result1, result2"
   ]
  },
  {
   "cell_type": "code",
   "execution_count": 48,
   "id": "ddec61ac-9057-4121-9731-18e6e67c05fd",
   "metadata": {
    "tags": []
   },
   "outputs": [
    {
     "data": {
      "text/plain": [
       "(12, 3.0)"
      ]
     },
     "execution_count": 48,
     "metadata": {},
     "output_type": "execute_result"
    }
   ],
   "source": [
    "multi_divide(6,2)"
   ]
  },
  {
   "cell_type": "code",
   "execution_count": 49,
   "id": "968ab237-e80f-4bf1-b84b-1839f4ac95fa",
   "metadata": {
    "tags": []
   },
   "outputs": [
    {
     "data": {
      "text/plain": [
       "(6, 6.0)"
      ]
     },
     "execution_count": 49,
     "metadata": {},
     "output_type": "execute_result"
    }
   ],
   "source": [
    "multi_divide(6)"
   ]
  },
  {
   "cell_type": "code",
   "execution_count": 52,
   "id": "398ce309-470a-4dd7-826c-5312b65784f5",
   "metadata": {
    "tags": []
   },
   "outputs": [
    {
     "data": {
      "text/plain": [
       "(1, 1.0)"
      ]
     },
     "execution_count": 52,
     "metadata": {},
     "output_type": "execute_result"
    }
   ],
   "source": [
    "multi_divide()"
   ]
  },
  {
   "cell_type": "markdown",
   "id": "57dd4900-09f4-4a7e-869d-c1e5baccc314",
   "metadata": {},
   "source": [
    "#### **UDF with If Else / Iteration**"
   ]
  },
  {
   "cell_type": "code",
   "execution_count": 1,
   "id": "9b55d2ee-15ac-4ffd-8663-e5c66b7bcacd",
   "metadata": {
    "tags": []
   },
   "outputs": [],
   "source": [
    "def max_of_2(a = 0, b = 0):\n",
    "    if a > b:\n",
    "        result = a\n",
    "    else:\n",
    "        result = b\n",
    "    return result"
   ]
  },
  {
   "cell_type": "code",
   "execution_count": 2,
   "id": "0fccea0c-fad2-4eb4-9c27-ea9a867643bf",
   "metadata": {
    "tags": []
   },
   "outputs": [
    {
     "data": {
      "text/plain": [
       "5"
      ]
     },
     "execution_count": 2,
     "metadata": {},
     "output_type": "execute_result"
    }
   ],
   "source": [
    "max_of_2(1,5)"
   ]
  },
  {
   "cell_type": "code",
   "execution_count": 3,
   "id": "1d09b6b1-c92d-4d52-a879-10067012c048",
   "metadata": {
    "tags": []
   },
   "outputs": [
    {
     "data": {
      "text/plain": [
       "107"
      ]
     },
     "execution_count": 3,
     "metadata": {},
     "output_type": "execute_result"
    }
   ],
   "source": [
    "max_of_2(107,54)"
   ]
  },
  {
   "cell_type": "code",
   "execution_count": 4,
   "id": "a2932635-1914-4e65-9754-98a298895c9a",
   "metadata": {
    "tags": []
   },
   "outputs": [
    {
     "data": {
      "text/plain": [
       "-5"
      ]
     },
     "execution_count": 4,
     "metadata": {},
     "output_type": "execute_result"
    }
   ],
   "source": [
    "max_of_2(-5,-7)"
   ]
  },
  {
   "cell_type": "code",
   "execution_count": 8,
   "id": "bdfd4691-6dcf-4995-b05f-7d9a6f27f9e2",
   "metadata": {},
   "outputs": [],
   "source": [
    "def odd_even(a):\n",
    "    if a % 2 == 0 :\n",
    "        print(\"a is even\")\n",
    "    else:\n",
    "        print(\"a is odd\")"
   ]
  },
  {
   "cell_type": "code",
   "execution_count": 9,
   "id": "5444d7c9-04e5-4132-b3a9-bc1de3f92482",
   "metadata": {
    "tags": []
   },
   "outputs": [
    {
     "name": "stdout",
     "output_type": "stream",
     "text": [
      "a is odd\n"
     ]
    }
   ],
   "source": [
    "odd_even(8907523)"
   ]
  },
  {
   "cell_type": "code",
   "execution_count": 10,
   "id": "2f2aafec-eb20-4e4d-ac34-25cf9c0429f9",
   "metadata": {
    "tags": []
   },
   "outputs": [],
   "source": [
    "def power(a,b):\n",
    "    result = a\n",
    "    for i in range(b - 1):\n",
    "        result = result * a\n",
    "    return result"
   ]
  },
  {
   "cell_type": "code",
   "execution_count": 11,
   "id": "99509f7e-8b2d-40c2-841f-bb125248e675",
   "metadata": {
    "tags": []
   },
   "outputs": [
    {
     "data": {
      "text/plain": [
       "9"
      ]
     },
     "execution_count": 11,
     "metadata": {},
     "output_type": "execute_result"
    }
   ],
   "source": [
    "power(3,2)"
   ]
  },
  {
   "cell_type": "code",
   "execution_count": 14,
   "id": "f4fa9d71-7eae-46e3-a050-fa0f01b935aa",
   "metadata": {
    "tags": []
   },
   "outputs": [],
   "source": [
    "def sum_of_list(a):\n",
    "    result = 0\n",
    "    for i in a:\n",
    "        result = result + i\n",
    "    return result"
   ]
  },
  {
   "cell_type": "code",
   "execution_count": 15,
   "id": "6b22299c-49c1-4a74-9a09-057f2cb0be9d",
   "metadata": {
    "tags": []
   },
   "outputs": [
    {
     "data": {
      "text/plain": [
       "10"
      ]
     },
     "execution_count": 15,
     "metadata": {},
     "output_type": "execute_result"
    }
   ],
   "source": [
    "sum_of_list([1,2,3,4])"
   ]
  },
  {
   "cell_type": "code",
   "execution_count": 16,
   "id": "1301efda-49ac-4a15-87ab-57c8d07a5803",
   "metadata": {
    "tags": []
   },
   "outputs": [
    {
     "data": {
      "text/plain": [
       "1112"
      ]
     },
     "execution_count": 16,
     "metadata": {},
     "output_type": "execute_result"
    }
   ],
   "source": [
    "sum_of_list([100,252,360,400])"
   ]
  },
  {
   "cell_type": "markdown",
   "id": "f6f5647b-ac7d-41ff-ad12-8569c4eca6a1",
   "metadata": {},
   "source": [
    "### **Case Study**"
   ]
  },
  {
   "cell_type": "markdown",
   "id": "e6d0ee8b-b942-41c9-9bec-4fbe3dd47b1b",
   "metadata": {},
   "source": [
    "#### **Practice**"
   ]
  },
  {
   "cell_type": "code",
   "execution_count": 29,
   "id": "a0dc84ce-27ff-47b3-ad76-134890e8ee16",
   "metadata": {
    "tags": []
   },
   "outputs": [],
   "source": [
    "def factorial(n = 0):\n",
    "    if (n < 0):\n",
    "        return None\n",
    "    result = n\n",
    "    while (n > 1):\n",
    "        n -= 1\n",
    "        result = result * n\n",
    "    return result        "
   ]
  },
  {
   "cell_type": "code",
   "execution_count": 34,
   "id": "bf7f92f1-2d5e-49ac-85af-b890d2cab9ee",
   "metadata": {
    "tags": []
   },
   "outputs": [
    {
     "data": {
      "text/plain": [
       "120"
      ]
     },
     "execution_count": 34,
     "metadata": {},
     "output_type": "execute_result"
    }
   ],
   "source": [
    "factorial(5)"
   ]
  },
  {
   "cell_type": "markdown",
   "id": "98b8bddd-25f2-41ea-9ecc-cc1d596132dd",
   "metadata": {},
   "source": [
    "#### **Solution**"
   ]
  },
  {
   "cell_type": "code",
   "execution_count": 35,
   "id": "143bae29-6890-4c52-bddf-42fd0985404d",
   "metadata": {
    "tags": []
   },
   "outputs": [],
   "source": [
    "n = 3\n",
    "\n",
    "\n",
    "result = 1\n",
    "#iterasi 1 (i = 0)\n",
    "result = result*3\n",
    "\n",
    "#iterasi 2 (i = 1)\n",
    "result = result * (3-1)\n",
    "\n",
    "#iterasi 3 (i = 2)\n",
    "result = result * (3-2)"
   ]
  },
  {
   "cell_type": "code",
   "execution_count": 36,
   "id": "4be1308a-2bc4-469b-bd15-32a838df4051",
   "metadata": {
    "tags": []
   },
   "outputs": [
    {
     "data": {
      "text/plain": [
       "6"
      ]
     },
     "execution_count": 36,
     "metadata": {},
     "output_type": "execute_result"
    }
   ],
   "source": [
    "result"
   ]
  },
  {
   "cell_type": "code",
   "execution_count": 39,
   "id": "1d66c837-0fc4-4987-b22a-3de694124d46",
   "metadata": {
    "tags": []
   },
   "outputs": [],
   "source": [
    "def factorial(n):\n",
    "    result = 1\n",
    "    for i in range(n):\n",
    "        result = result * (n-i)\n",
    "    return result"
   ]
  },
  {
   "cell_type": "code",
   "execution_count": 40,
   "id": "1bc6420a-f343-4cac-b4b7-b88d0b92c05e",
   "metadata": {
    "tags": []
   },
   "outputs": [
    {
     "data": {
      "text/plain": [
       "1"
      ]
     },
     "execution_count": 40,
     "metadata": {},
     "output_type": "execute_result"
    }
   ],
   "source": [
    "factorial(1)"
   ]
  },
  {
   "cell_type": "code",
   "execution_count": 41,
   "id": "417746ca-7568-4d1d-affd-fa6df79e7066",
   "metadata": {
    "tags": []
   },
   "outputs": [
    {
     "data": {
      "text/plain": [
       "120"
      ]
     },
     "execution_count": 41,
     "metadata": {},
     "output_type": "execute_result"
    }
   ],
   "source": [
    "factorial(5)"
   ]
  },
  {
   "cell_type": "code",
   "execution_count": 42,
   "id": "4fb9b55a-81f7-4522-a4d9-3c80334984f7",
   "metadata": {
    "tags": []
   },
   "outputs": [
    {
     "data": {
      "text/plain": [
       "1"
      ]
     },
     "execution_count": 42,
     "metadata": {},
     "output_type": "execute_result"
    }
   ],
   "source": [
    "factorial(-3)"
   ]
  },
  {
   "cell_type": "code",
   "execution_count": null,
   "id": "efb16472-3a69-4800-8325-170c1a141e9f",
   "metadata": {},
   "outputs": [],
   "source": []
  }
 ],
 "metadata": {
  "kernelspec": {
   "display_name": "Python 3 (ipykernel)",
   "language": "python",
   "name": "python3"
  },
  "language_info": {
   "codemirror_mode": {
    "name": "ipython",
    "version": 3
   },
   "file_extension": ".py",
   "mimetype": "text/x-python",
   "name": "python",
   "nbconvert_exporter": "python",
   "pygments_lexer": "ipython3",
   "version": "3.11.4"
  }
 },
 "nbformat": 4,
 "nbformat_minor": 5
}
